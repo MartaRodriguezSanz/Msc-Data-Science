{
 "cells": [
  {
   "cell_type": "markdown",
   "id": "bd9ba2ca",
   "metadata": {},
   "source": [
    "# General Model-New Dataset"
   ]
  },
  {
   "cell_type": "code",
   "execution_count": 149,
   "id": "73c342bc",
   "metadata": {},
   "outputs": [],
   "source": [
    "import numpy as np\n",
    "import pandas as pd\n",
    "import tensorflow as tf\n",
    "import shutil\n",
    "import os\n",
    "\n",
    "from tensorflow import keras\n",
    "from keras.models import load_model\n",
    "from pycm import ConfusionMatrix\n",
    "from sklearn.metrics import ConfusionMatrixDisplay, roc_curve, auc\n",
    "from sklearn.metrics import confusion_matrix\n",
    "import matplotlib.pyplot as plt\n",
    "from imblearn.metrics import classification_report_imbalanced\n",
    "from tensorflow.keras.preprocessing.image import ImageDataGenerator"
   ]
  },
  {
   "cell_type": "markdown",
   "id": "820b95f9",
   "metadata": {},
   "source": [
    "## Data Preprocessing"
   ]
  },
  {
   "cell_type": "code",
   "execution_count": 2,
   "id": "d52908d9",
   "metadata": {},
   "outputs": [
    {
     "data": {
      "text/plain": [
       "'C:\\\\Users\\\\marta\\\\Desktop\\\\LSE\\\\Data Science\\\\Artificial Intelligence\\\\project-mt2021-ajm\\\\General model'"
      ]
     },
     "execution_count": 2,
     "metadata": {},
     "output_type": "execute_result"
    }
   ],
   "source": [
    "os.getcwd()"
   ]
  },
  {
   "cell_type": "code",
   "execution_count": 3,
   "id": "2ec371d9",
   "metadata": {},
   "outputs": [],
   "source": [
    "# Copy the images of the test benign to the folder train benign.\n",
    "for i in range(1,1801):\n",
    "    try:\n",
    "        path=r\"data\\test\\benign\\ \"\n",
    "        source=path.strip() + str(i) + '.jpg'\n",
    "        destination = r'data\\train\\benign'\n",
    "        shutil.copy(source, destination)\n",
    "    except:\n",
    "        continue"
   ]
  },
  {
   "cell_type": "code",
   "execution_count": 4,
   "id": "7dfc3999",
   "metadata": {},
   "outputs": [],
   "source": [
    "# Copy the images of the test malignant to the folder train malignant.\n",
    "for i in range(1,1500):\n",
    "    try:\n",
    "        path=r\"data\\test\\malignant\\ \"\n",
    "        source=path.strip() + str(i) + '.jpg'\n",
    "        destination = r'data\\train\\malignant'\n",
    "        shutil.copy(source, destination)\n",
    "    except:\n",
    "        continue"
   ]
  },
  {
   "cell_type": "code",
   "execution_count": 5,
   "id": "109a4788",
   "metadata": {},
   "outputs": [],
   "source": [
    "# Delete the test file\n",
    "shutil.rmtree(r'data\\test')"
   ]
  },
  {
   "cell_type": "code",
   "execution_count": 6,
   "id": "2c4208ff",
   "metadata": {},
   "outputs": [],
   "source": [
    "# Rename the files so that the images have the same class names as the one used to train the model:\n",
    "os.rename(r'data\\train\\benign', r'data\\train\\Benign')\n",
    "os.rename(r'data\\train\\malignant', r'data\\train\\Malignant')"
   ]
  },
  {
   "cell_type": "code",
   "execution_count": 7,
   "id": "ef748fb3",
   "metadata": {},
   "outputs": [],
   "source": [
    "# Rename the train file to test file \n",
    "os.rename(r'data\\train', r'data\\test')"
   ]
  },
  {
   "cell_type": "code",
   "execution_count": 106,
   "id": "a21e9404",
   "metadata": {},
   "outputs": [],
   "source": [
    "test_path = r'C:\\Users\\marta\\Desktop\\LSE\\Data Science\\Artificial Intelligence\\project-mt2021-ajm\\General model\\data\\test'"
   ]
  },
  {
   "cell_type": "code",
   "execution_count": 140,
   "id": "00d38b6f",
   "metadata": {},
   "outputs": [
    {
     "name": "stdout",
     "output_type": "stream",
     "text": [
      "Found 3297 images belonging to 2 classes.\n"
     ]
    }
   ],
   "source": [
    "test_batches = ImageDataGenerator(preprocessing_function=tf.keras.applications.vgg16.preprocess_input) \\\n",
    "    .flow_from_directory(directory=test_path, target_size=(224,224),batch_size=10,classes=['Benign','Malignant'], shuffle=True)"
   ]
  },
  {
   "cell_type": "code",
   "execution_count": 141,
   "id": "c5871831",
   "metadata": {},
   "outputs": [],
   "source": [
    "imgs, labels = next(test_batches)"
   ]
  },
  {
   "cell_type": "markdown",
   "id": "ed788bcb",
   "metadata": {},
   "source": [
    "## Tuned Model"
   ]
  },
  {
   "cell_type": "markdown",
   "id": "ae86617a",
   "metadata": {},
   "source": [
    "### Running saved model in new data"
   ]
  },
  {
   "cell_type": "code",
   "execution_count": 142,
   "id": "0fa14826",
   "metadata": {},
   "outputs": [],
   "source": [
    "######################################################### Create function to calculate f1 score to use in model assessment\n",
    "def get_f1(y_true, y_pred): #taken from old keras source code\n",
    "    true_positives = K.sum(K.round(K.clip(y_true * y_pred, 0, 1)))\n",
    "    possible_positives = K.sum(K.round(K.clip(y_true, 0, 1)))\n",
    "    predicted_positives = K.sum(K.round(K.clip(y_pred, 0, 1)))\n",
    "    precision = true_positives / (predicted_positives + K.epsilon())\n",
    "    recall = true_positives / (possible_positives + K.epsilon())\n",
    "    f1_val = 2*(precision*recall)/(precision+recall+K.epsilon())\n",
    "    return f1_val"
   ]
  },
  {
   "cell_type": "code",
   "execution_count": 143,
   "id": "07b3211d",
   "metadata": {},
   "outputs": [],
   "source": [
    "tuned_model = load_model('GeneralModelnew', custom_objects={'get_f1':get_f1})"
   ]
  },
  {
   "cell_type": "code",
   "execution_count": 144,
   "id": "2e68ed75",
   "metadata": {},
   "outputs": [
    {
     "name": "stdout",
     "output_type": "stream",
     "text": [
      "Model: \"sequential_2\"\n",
      "_________________________________________________________________\n",
      " Layer (type)                Output Shape              Param #   \n",
      "=================================================================\n",
      " conv2d_8 (Conv2D)           (None, 222, 222, 16)      448       \n",
      "                                                                 \n",
      " max_pooling2d_8 (MaxPooling  (None, 111, 111, 16)     0         \n",
      " 2D)                                                             \n",
      "                                                                 \n",
      " conv2d_9 (Conv2D)           (None, 109, 109, 32)      4640      \n",
      "                                                                 \n",
      " max_pooling2d_9 (MaxPooling  (None, 54, 54, 32)       0         \n",
      " 2D)                                                             \n",
      "                                                                 \n",
      " conv2d_10 (Conv2D)          (None, 52, 52, 64)        18496     \n",
      "                                                                 \n",
      " max_pooling2d_10 (MaxPoolin  (None, 26, 26, 64)       0         \n",
      " g2D)                                                            \n",
      "                                                                 \n",
      " conv2d_11 (Conv2D)          (None, 24, 24, 128)       73856     \n",
      "                                                                 \n",
      " max_pooling2d_11 (MaxPoolin  (None, 12, 12, 128)      0         \n",
      " g2D)                                                            \n",
      "                                                                 \n",
      " flatten_2 (Flatten)         (None, 18432)             0         \n",
      "                                                                 \n",
      " dense_4 (Dense)             (None, 64)                1179712   \n",
      "                                                                 \n",
      " dense_5 (Dense)             (None, 1)                 65        \n",
      "                                                                 \n",
      "=================================================================\n",
      "Total params: 1,277,217\n",
      "Trainable params: 1,277,217\n",
      "Non-trainable params: 0\n",
      "_________________________________________________________________\n"
     ]
    }
   ],
   "source": [
    "tuned_model.summary()"
   ]
  },
  {
   "cell_type": "code",
   "execution_count": 145,
   "id": "c20ed476",
   "metadata": {},
   "outputs": [],
   "source": [
    "predictions = tuned_model.predict(x=test_batches, steps=len(test_batches), verbose=0)"
   ]
  },
  {
   "cell_type": "markdown",
   "id": "1351275e",
   "metadata": {},
   "source": [
    "### Model Assesment"
   ]
  },
  {
   "cell_type": "code",
   "execution_count": 135,
   "id": "4aa4e46f",
   "metadata": {},
   "outputs": [],
   "source": [
    "y_true_index=test_batches.classes\n",
    "y_pred_index=predictions>0.54714\n",
    "y_pred_index=y_pred_index.astype(int)\n",
    "y_pred_index=np.concatenate(y_pred_index,axis=0)\n",
    "classes=['Benign', 'Malignant']"
   ]
  },
  {
   "cell_type": "code",
   "execution_count": 146,
   "id": "bb9bf183",
   "metadata": {},
   "outputs": [
    {
     "data": {
      "text/plain": [
       "array([[ 188, 1309],\n",
       "       [ 233, 1567]], dtype=int64)"
      ]
     },
     "execution_count": 146,
     "metadata": {},
     "output_type": "execute_result"
    }
   ],
   "source": [
    "cm = confusion_matrix(y_true=y_true_index, y_pred=y_pred_index)\n",
    "cm"
   ]
  },
  {
   "cell_type": "code",
   "execution_count": 147,
   "id": "f5cd304f",
   "metadata": {},
   "outputs": [
    {
     "name": "stdout",
     "output_type": "stream",
     "text": [
      "Predict    0          1          \n",
      "Actual\n",
      "0          188        1309       \n",
      "\n",
      "1          233        1567       \n",
      "\n",
      "\n",
      "\n",
      "\n",
      "\n",
      "Overall Statistics : \n",
      "\n",
      "95% CI                                                            (0.51527,0.54933)\n",
      "ACC Macro                                                         0.5323\n",
      "ARI                                                               -0.00065\n",
      "AUNP                                                              0.49807\n",
      "AUNU                                                              0.49807\n",
      "Bangdiwala B                                                      0.42893\n",
      "Bennett S                                                         0.0646\n",
      "CBA                                                               0.33522\n",
      "CSI                                                               -0.00623\n",
      "Chi-Squared                                                       0.10932\n",
      "Chi-Squared DF                                                    1\n",
      "Conditional Entropy                                               0.55105\n",
      "Cramer V                                                          0.00576\n",
      "Cross Entropy                                                     1.45579\n",
      "F1 Macro                                                          0.43313\n",
      "F1 Micro                                                          0.5323\n",
      "FNR Macro                                                         0.50193\n",
      "FNR Micro                                                         0.4677\n",
      "FPR Macro                                                         0.50193\n",
      "FPR Micro                                                         0.4677\n",
      "Gwet AC1                                                          0.20388\n",
      "Hamming Loss                                                      0.4677\n",
      "Joint Entropy                                                     1.54495\n",
      "KL Divergence                                                     0.46189\n",
      "Kappa                                                             -0.00411\n",
      "Kappa 95% CI                                                      (-0.04067,0.03246)\n",
      "Kappa No Prevalence                                               0.0646\n",
      "Kappa Standard Error                                              0.01866\n",
      "Kappa Unbiased                                                    -0.13373\n",
      "Krippendorff Alpha                                                -0.13356\n",
      "Lambda A                                                          0.0\n",
      "Lambda B                                                          0.0\n",
      "Mutual Information                                                2e-05\n",
      "NIR                                                               0.54595\n",
      "Overall ACC                                                       0.5323\n",
      "Overall CEN                                                       0.73439\n",
      "Overall J                                                         (0.61269,0.30635)\n",
      "Overall MCC                                                       -0.00576\n",
      "Overall MCEN                                                      0.56189\n",
      "Overall RACC                                                      0.53422\n",
      "Overall RACCU                                                     0.58747\n",
      "P-Value                                                           None\n",
      "PPV Macro                                                         0.4957\n",
      "PPV Micro                                                         0.5323\n",
      "Pearson C                                                         0.00576\n",
      "Phi-Squared                                                       3e-05\n",
      "RCI                                                               2e-05\n",
      "RR                                                                1648.5\n",
      "Reference Entropy                                                 0.9939\n",
      "Response Entropy                                                  0.55107\n",
      "SOA1(Landis & Koch)                                               Poor\n",
      "SOA2(Fleiss)                                                      Poor\n",
      "SOA3(Altman)                                                      Poor\n",
      "SOA4(Cicchetti)                                                   Poor\n",
      "SOA5(Cramer)                                                      Negligible\n",
      "SOA6(Matthews)                                                    Negligible\n",
      "Scott PI                                                          -0.13373\n",
      "Standard Error                                                    0.00869\n",
      "TNR Macro                                                         0.49807\n",
      "TNR Micro                                                         0.5323\n",
      "TPR Macro                                                         0.49807\n",
      "TPR Micro                                                         0.5323\n",
      "Zero-one Loss                                                     1542\n",
      "\n",
      "Class Statistics :\n",
      "\n",
      "Classes                                                           0             1             \n",
      "ACC(Accuracy)                                                     0.5323        0.5323        \n",
      "AGF(Adjusted F-score)                                             0.2939        0.47936       \n",
      "AGM(Adjusted geometric mean)                                      0.52132       0.26661       \n",
      "AM(Difference between automatic and manual classification)        -1076         1076          \n",
      "AUC(Area under the ROC curve)                                     0.49807       0.49807       \n",
      "AUCI(AUC value interpretation)                                    Poor          Poor          \n",
      "AUPR(Area under the PR curve)                                     0.28607       0.7077        \n",
      "BCD(Bray-Curtis dissimilarity)                                    0.16318       0.16318       \n",
      "BM(Informedness or bookmaker informedness)                        -0.00386      -0.00386      \n",
      "CEN(Confusion entropy)                                            0.74559       0.7298        \n",
      "DOR(Diagnostic odds ratio)                                        0.9659        0.9659        \n",
      "DP(Discriminant power)                                            -0.00831      -0.00831      \n",
      "DPI(Discriminant power interpretation)                            Poor          Poor          \n",
      "ERR(Error rate)                                                   0.4677        0.4677        \n",
      "F0.5(F0.5 score)                                                  0.2955        0.58892       \n",
      "F1(F1 score - harmonic mean of precision and sensitivity)         0.19604       0.67023       \n",
      "F2(F2 score)                                                      0.14667       0.77759       \n",
      "FDR(False discovery rate)                                         0.55344       0.45515       \n",
      "FN(False negative/miss/type 2 error)                              1309          233           \n",
      "FNR(Miss rate or false negative rate)                             0.87442       0.12944       \n",
      "FOR(False omission rate)                                          0.45515       0.55344       \n",
      "FP(False positive/type 1 error/false alarm)                       233           1309          \n",
      "FPR(Fall-out or false positive rate)                              0.12944       0.87442       \n",
      "G(G-measure geometric mean of precision and sensitivity)          0.23681       0.68871       \n",
      "GI(Gini index)                                                    -0.00386      -0.00386      \n",
      "GM(G-mean geometric mean of specificity and sensitivity)          0.33065       0.33065       \n",
      "IBA(Index of balanced accuracy)                                   0.02788       0.19077       \n",
      "ICSI(Individual classification success index)                     -0.42786      0.41541       \n",
      "IS(Information score)                                             -0.02401      -0.0029       \n",
      "J(Jaccard index)                                                  0.10867       0.50402       \n",
      "LS(Lift score)                                                    0.9835        0.99799       \n",
      "MCC(Matthews correlation coefficient)                             -0.00576      -0.00576      \n",
      "MCCI(Matthews correlation coefficient interpretation)             Negligible    Negligible    \n",
      "MCEN(Modified confusion entropy)                                  0.69395       0.80559       \n",
      "MK(Markedness)                                                    -0.00859      -0.00859      \n",
      "N(Condition negative)                                             1800          1497          \n",
      "NLR(Negative likelihood ratio)                                    1.00443       1.03074       \n",
      "NLRI(Negative likelihood ratio interpretation)                    Negligible    Negligible    \n",
      "NPV(Negative predictive value)                                    0.54485       0.44656       \n",
      "OC(Overlap coefficient)                                           0.44656       0.87056       \n",
      "OOC(Otsuka-Ochiai coefficient)                                    0.23681       0.68871       \n",
      "OP(Optimized precision)                                           -0.21556      -0.21556      \n",
      "P(Condition positive or support)                                  1497          1800          \n",
      "PLR(Positive likelihood ratio)                                    0.97018       0.99559       \n",
      "PLRI(Positive likelihood ratio interpretation)                    Negligible    Negligible    \n",
      "POP(Population)                                                   3297          3297          \n",
      "PPV(Precision or positive predictive value)                       0.44656       0.54485       \n",
      "PRE(Prevalence)                                                   0.45405       0.54595       \n",
      "Q(Yule Q - coefficient of colligation)                            -0.01735      -0.01735      \n",
      "QI(Yule Q interpretation)                                         Negligible    Negligible    \n",
      "RACC(Random accuracy)                                             0.05798       0.47624       \n",
      "RACCU(Random accuracy unbiased)                                   0.08461       0.50286       \n",
      "TN(True negative/correct rejection)                               1567          188           \n",
      "TNR(Specificity or true negative rate)                            0.87056       0.12558       \n",
      "TON(Test outcome negative)                                        2876          421           \n",
      "TOP(Test outcome positive)                                        421           2876          \n",
      "TP(True positive/hit)                                             188           1567          \n",
      "TPR(Sensitivity, recall, hit rate, or true positive rate)         0.12558       0.87056       \n",
      "Y(Youden index)                                                   -0.00386      -0.00386      \n",
      "dInd(Distance index)                                              0.88394       0.88394       \n",
      "sInd(Similarity index)                                            0.37496       0.37496       \n",
      "\n"
     ]
    }
   ],
   "source": [
    "cm = ConfusionMatrix(actual_vector=y_true_index,predict_vector=y_pred_index)\n",
    "print(cm)"
   ]
  },
  {
   "cell_type": "code",
   "execution_count": 148,
   "id": "8251fa6a",
   "metadata": {},
   "outputs": [
    {
     "name": "stdout",
     "output_type": "stream",
     "text": [
      "                   pre       rec       spe        f1       geo       iba       sup\n",
      "\n",
      "     Benign       0.45      0.13      0.87      0.20      0.33      0.10      1497\n",
      "  Malignant       0.54      0.87      0.13      0.67      0.33      0.12      1800\n",
      "\n",
      "avg / total       0.50      0.53      0.46      0.45      0.33      0.11      3297\n",
      "\n"
     ]
    },
    {
     "data": {
      "image/png": "[encoded data removed]",
      "text/plain": [
       "<Figure size 432x288 with 2 Axes>"
      ]
     },
     "metadata": {
      "needs_background": "light"
     },
     "output_type": "display_data"
    }
   ],
   "source": [
    "################################################################### Generate a classification report\n",
    "report = classification_report_imbalanced(y_true_index, y_pred_index, target_names=classes)\n",
    "print(report)\n",
    "\n",
    "#################################################################### Generate Confusion matrix\n",
    "cm = confusion_matrix(y_true_index, y_pred_index,normalize='true')\n",
    "disp = ConfusionMatrixDisplay(confusion_matrix = np.round(cm,2), display_labels=classes)\n",
    "disp.plot(cmap=plt.cm.Blues)\n",
    "plt.show()"
   ]
  },
  {
   "cell_type": "code",
   "execution_count": 153,
   "id": "8042344e",
   "metadata": {},
   "outputs": [
    {
     "data": {
      "image/png": "[encoded data removed]",
      "text/plain": [
       "<Figure size 432x288 with 1 Axes>"
      ]
     },
     "metadata": {
      "needs_background": "light"
     },
     "output_type": "display_data"
    }
   ],
   "source": [
    "############################################################################## Generate an ROC Curve\n",
    "fpr, tpr, thresholds = roc_curve(test_batches.classes, predictions)\n",
    "roc_auc = auc(fpr, tpr)\n",
    "plt.figure()\n",
    "lw = 2\n",
    "plt.plot(fpr, tpr, color='darkorange',\n",
    "lw=lw, label='ROC curve (area = %0.2f)' % roc_auc)\n",
    "plt.plot([0, 1], [0, 1], color='navy', lw=lw, linestyle='--')\n",
    "plt.xlim([0.0, 1.0])\n",
    "plt.ylim([0.0, 1.05])\n",
    "plt.xlabel('False Positive Rate')\n",
    "plt.ylabel('True Positive Rate')\n",
    "plt.title('Receiver operating characteristic example')\n",
    "plt.legend(loc=\"lower right\")\n",
    "plt.show()"
   ]
  }
 ],
 "metadata": {
  "kernelspec": {
   "display_name": "Python 3 (ipykernel)",
   "language": "python",
   "name": "python3"
  },
  "language_info": {
   "codemirror_mode": {
    "name": "ipython",
    "version": 3
   },
   "file_extension": ".py",
   "mimetype": "text/x-python",
   "name": "python",
   "nbconvert_exporter": "python",
   "pygments_lexer": "ipython3",
   "version": "3.8.12"
  }
 },
 "nbformat": 4,
 "nbformat_minor": 5
}
