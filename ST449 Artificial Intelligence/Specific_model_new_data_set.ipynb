{
 "cells": [
  {
   "cell_type": "markdown",
   "id": "0ea773e1",
   "metadata": {},
   "source": [
    "# Specific Model-New Dataset"
   ]
  },
  {
   "cell_type": "code",
   "execution_count": 3,
   "id": "66dce448",
   "metadata": {},
   "outputs": [],
   "source": [
    "import numpy as np\n",
    "import pandas as pd\n",
    "import tensorflow as tf\n",
    "import shutil\n",
    "import os\n",
    "\n",
    "from tensorflow import keras\n",
    "from keras.models import load_model\n",
    "from pycm import ConfusionMatrix\n",
    "from sklearn.metrics import ConfusionMatrixDisplay, roc_curve, auc\n",
    "from sklearn.metrics import confusion_matrix\n",
    "import matplotlib.pyplot as plt\n",
    "from imblearn.metrics import classification_report_imbalanced\n",
    "from tensorflow.keras.preprocessing.image import ImageDataGenerator"
   ]
  },
  {
   "cell_type": "markdown",
   "id": "bc40a1f0",
   "metadata": {},
   "source": [
    "## Data Preprocessing"
   ]
  },
  {
   "cell_type": "code",
   "execution_count": 3,
   "id": "0ef5ae93",
   "metadata": {},
   "outputs": [],
   "source": [
    "# Remove file of Squamous Cell Carcinoma from Train and Test files as this class is not in the training model \n",
    "shutil.rmtree(r'Skin cancer ISIC The International Skin Imaging Collaboration\\Train\\squamous cell carcinoma')\n",
    "shutil.rmtree(r'Skin cancer ISIC The International Skin Imaging Collaboration\\Test\\squamous cell carcinoma')"
   ]
  },
  {
   "cell_type": "code",
   "execution_count": 4,
   "id": "63322210",
   "metadata": {},
   "outputs": [],
   "source": [
    "# Copy the images of the Seborrheic Keratosis of the test file into the Pigmented Bening keratosis of the train file.\n",
    "for i in range(803,810):\n",
    "    try:\n",
    "        source = r\"Skin cancer ISIC The International Skin Imaging Collaboration\\Test\\seborrheic keratosis\\ISIC_0010\"+str(i)+\".jpg\"\n",
    "        destination = r'Skin cancer ISIC The International Skin Imaging Collaboration\\Train\\pigmented benign keratosis'\n",
    "        shutil.copy(source, destination)\n",
    "    except:\n",
    "        continue"
   ]
  },
  {
   "cell_type": "code",
   "execution_count": 5,
   "id": "48536720",
   "metadata": {},
   "outputs": [],
   "source": [
    "# Copy the images of the Seborrheic Keratosis into the Pigmented Bening keratosis of the train file.\n",
    "for i in range(10812,11194):\n",
    "    try:\n",
    "        source = r\"Skin cancer ISIC The International Skin Imaging Collaboration\\Train\\seborrheic keratosis\\ISIC_00\"+str(i)+\".jpg\"\n",
    "        destination = r'Skin cancer ISIC The International Skin Imaging Collaboration\\Train\\pigmented benign keratosis'\n",
    "        shutil.copy(source, destination)\n",
    "    except:\n",
    "        continue"
   ]
  },
  {
   "cell_type": "code",
   "execution_count": 6,
   "id": "dbea3798",
   "metadata": {},
   "outputs": [],
   "source": [
    "# Copy the images of the Acnitic Keratosis of the test file to train file.\n",
    "for i in range(10512,25606):\n",
    "    try:\n",
    "        source = r\"Skin cancer ISIC The International Skin Imaging Collaboration\\Test\\actinic keratosis\\ISIC_00\"+str(i)+\".jpg\"\n",
    "        destination = r'Skin cancer ISIC The International Skin Imaging Collaboration\\Train\\actinic keratosis'\n",
    "        shutil.copy(source, destination)\n",
    "    except:\n",
    "        continue"
   ]
  },
  {
   "cell_type": "code",
   "execution_count": 7,
   "id": "0bcf0b40",
   "metadata": {},
   "outputs": [],
   "source": [
    "# Copy the images of the Basal Cell Carcinoma of the test file to train file.\n",
    "for i in range(24331,24473):\n",
    "    try:\n",
    "        source = r\"Skin cancer ISIC The International Skin Imaging Collaboration\\Test\\basal cell carcinoma\\ISIC_00\"+str(i)+\".jpg\"\n",
    "        destination = r'Skin cancer ISIC The International Skin Imaging Collaboration\\Train\\basal cell carcinoma'\n",
    "        shutil.copy(source, destination)\n",
    "    except:\n",
    "        continue"
   ]
  },
  {
   "cell_type": "code",
   "execution_count": 8,
   "id": "df662780",
   "metadata": {},
   "outputs": [],
   "source": [
    "# Copy the images of the Dermatofibroma of the test file to train file.\n",
    "for i in range(1114,25155):\n",
    "    if i<1131:\n",
    "        try:\n",
    "            source = r\"Skin cancer ISIC The International Skin Imaging Collaboration\\Test\\dermatofibroma\\ISIC_000\"+str(i)+\".jpg\"\n",
    "            destination = r'Skin cancer ISIC The International Skin Imaging Collaboration\\Train\\dermatofibroma'\n",
    "            shutil.copy(source, destination)\n",
    "        except:\n",
    "                continue\n",
    "    else:\n",
    "        try:\n",
    "            source = r\"Skin cancer ISIC The International Skin Imaging Collaboration\\Test\\dermatofibroma\\ISIC_00\"+str(i)+\".jpg\"\n",
    "            destination = r'Skin cancer ISIC The International Skin Imaging Collaboration\\Train\\dermatofibroma'\n",
    "            shutil.copy(source, destination)\n",
    "        except:\n",
    "                continue"
   ]
  },
  {
   "cell_type": "code",
   "execution_count": 9,
   "id": "78e740d8",
   "metadata": {},
   "outputs": [],
   "source": [
    "# Copy the images of the Melanoma of the test file to train file.\n",
    "for i in range(2,57):\n",
    "    if i<10:\n",
    "        try:\n",
    "            source = r\"Skin cancer ISIC The International Skin Imaging Collaboration\\Test\\melanoma\\ISIC_000000\"+str(i)+\".jpg\"\n",
    "            destination = r'Skin cancer ISIC The International Skin Imaging Collaboration\\Train\\melanoma'\n",
    "            shutil.copy(source, destination)\n",
    "        except:\n",
    "                continue\n",
    "    else:\n",
    "        try:\n",
    "            source = r\"Skin cancer ISIC The International Skin Imaging Collaboration\\Test\\melanoma\\ISIC_00000\"+str(i)+\".jpg\"\n",
    "            destination = r'Skin cancer ISIC The International Skin Imaging Collaboration\\Train\\melanoma'\n",
    "            shutil.copy(source, destination)\n",
    "        except:\n",
    "                continue"
   ]
  },
  {
   "cell_type": "code",
   "execution_count": 10,
   "id": "48ef7d5c",
   "metadata": {},
   "outputs": [],
   "source": [
    "# Copy the images of the Pigmented Benign Keratosis of the test file to train file.\n",
    "for i in range(312,427):\n",
    "    try:\n",
    "        source = r\"Skin cancer ISIC The International Skin Imaging Collaboration\\Test\\pigmented benign keratosis\\ISIC_0024\"+str(i)+\".jpg\"\n",
    "        destination = r'Skin cancer ISIC The International Skin Imaging Collaboration\\Train\\pigmented benign keratosis'\n",
    "        shutil.copy(source, destination)\n",
    "    except:\n",
    "        continue"
   ]
  },
  {
   "cell_type": "code",
   "execution_count": 11,
   "id": "108e5bbc",
   "metadata": {},
   "outputs": [],
   "source": [
    "# Copy the images of the Vascular Lesion of the test file to train file.\n",
    "for i in range(370,403):\n",
    "    try:\n",
    "        source = r\"Skin cancer ISIC The International Skin Imaging Collaboration\\Test\\vascular lesion\\ISIC_0024\"+str(i)+\".jpg\"\n",
    "        destination = r'Skin cancer ISIC The International Skin Imaging Collaboration\\Train\\vascular lesion'\n",
    "        shutil.copy(source, destination)\n",
    "    except:\n",
    "        continue"
   ]
  },
  {
   "cell_type": "code",
   "execution_count": 12,
   "id": "f9d654af",
   "metadata": {},
   "outputs": [],
   "source": [
    "# Delete the test file\n",
    "shutil.rmtree(r'Skin cancer ISIC The International Skin Imaging Collaboration\\Test')"
   ]
  },
  {
   "cell_type": "code",
   "execution_count": 13,
   "id": "9d4978b8",
   "metadata": {},
   "outputs": [],
   "source": [
    "# Delete the seborrheic keratosis file from train file\n",
    "shutil.rmtree(r'Skin cancer ISIC The International Skin Imaging Collaboration\\Train\\seborrheic keratosis')"
   ]
  },
  {
   "cell_type": "code",
   "execution_count": 14,
   "id": "7af28e4f",
   "metadata": {},
   "outputs": [],
   "source": [
    "# Rename the files so that the images have the same class names as the one used to train the model:\n",
    "os.rename(r'Skin cancer ISIC The International Skin Imaging Collaboration\\Train\\actinic keratosis', r'Skin cancer ISIC The International Skin Imaging Collaboration\\Train\\akiec')\n",
    "os.rename(r'Skin cancer ISIC The International Skin Imaging Collaboration\\Train\\basal cell carcinoma', r'Skin cancer ISIC The International Skin Imaging Collaboration\\Train\\bcc')\n",
    "os.rename(r'Skin cancer ISIC The International Skin Imaging Collaboration\\Train\\dermatofibroma', r'Skin cancer ISIC The International Skin Imaging Collaboration\\Train\\df')\n",
    "os.rename(r'Skin cancer ISIC The International Skin Imaging Collaboration\\Train\\melanoma', r'Skin cancer ISIC The International Skin Imaging Collaboration\\Train\\mel')\n",
    "os.rename(r'Skin cancer ISIC The International Skin Imaging Collaboration\\Train\\nevus', r'Skin cancer ISIC The International Skin Imaging Collaboration\\Train\\nv')\n",
    "os.rename(r'Skin cancer ISIC The International Skin Imaging Collaboration\\Train\\pigmented benign keratosis', r'Skin cancer ISIC The International Skin Imaging Collaboration\\Train\\bkl')\n",
    "os.rename(r'Skin cancer ISIC The International Skin Imaging Collaboration\\Train\\vascular lesion', r'Skin cancer ISIC The International Skin Imaging Collaboration\\Train\\vasc')"
   ]
  },
  {
   "cell_type": "code",
   "execution_count": 15,
   "id": "a1d10ba1",
   "metadata": {},
   "outputs": [],
   "source": [
    "# Rename the train file to test file \n",
    "os.rename(r'Skin cancer ISIC The International Skin Imaging Collaboration\\Train', r'Skin cancer ISIC The International Skin Imaging Collaboration\\Test')"
   ]
  },
  {
   "cell_type": "code",
   "execution_count": 1,
   "id": "daf8cd58",
   "metadata": {},
   "outputs": [],
   "source": [
    "test_path = 'Skin cancer ISIC The International Skin Imaging Collaboration\\Test'"
   ]
  },
  {
   "cell_type": "code",
   "execution_count": 24,
   "id": "8255db90",
   "metadata": {},
   "outputs": [
    {
     "name": "stdout",
     "output_type": "stream",
     "text": [
      "Found 2143 images belonging to 7 classes.\n"
     ]
    }
   ],
   "source": [
    "test_batches = ImageDataGenerator(preprocessing_function=tf.keras.applications.vgg16.preprocess_input) \\\n",
    "    .flow_from_directory(directory=test_path, target_size=(224,224),classes=['akiec', 'bcc','df','mel','nv','bkl','vasc'],batch_size=10, shuffle=True)"
   ]
  },
  {
   "cell_type": "code",
   "execution_count": 25,
   "id": "81ea484c",
   "metadata": {},
   "outputs": [],
   "source": [
    "imgs, labels = next(test_batches)"
   ]
  },
  {
   "cell_type": "markdown",
   "id": "00e8926c",
   "metadata": {},
   "source": [
    "## Initial Model"
   ]
  },
  {
   "cell_type": "markdown",
   "id": "38b1656f",
   "metadata": {},
   "source": [
    "### Running saved model on new data "
   ]
  },
  {
   "cell_type": "code",
   "execution_count": 26,
   "id": "01b83d79",
   "metadata": {},
   "outputs": [],
   "source": [
    "######################################################### Create function to calculate f1 score to use in model assessment\n",
    "def get_f1(y_true, y_pred): #taken from old keras source code\n",
    "    true_positives = K.sum(K.round(K.clip(y_true * y_pred, 0, 1)))\n",
    "    possible_positives = K.sum(K.round(K.clip(y_true, 0, 1)))\n",
    "    predicted_positives = K.sum(K.round(K.clip(y_pred, 0, 1)))\n",
    "    precision = true_positives / (predicted_positives + K.epsilon())\n",
    "    recall = true_positives / (possible_positives + K.epsilon())\n",
    "    f1_val = 2*(precision*recall)/(precision+recall+K.epsilon())\n",
    "    return f1_val"
   ]
  },
  {
   "cell_type": "code",
   "execution_count": 27,
   "id": "ae4be785",
   "metadata": {},
   "outputs": [],
   "source": [
    "basic_model = load_model('my_model1', custom_objects={'get_f1':get_f1})"
   ]
  },
  {
   "cell_type": "code",
   "execution_count": null,
   "id": "84e3abc8",
   "metadata": {},
   "outputs": [],
   "source": [
    "predictions = basic_model.predict(x=test_batches, steps=len(test_batches), verbose=0)"
   ]
  },
  {
   "cell_type": "markdown",
   "id": "a212f59e",
   "metadata": {},
   "source": [
    "### Model Assesment"
   ]
  },
  {
   "cell_type": "code",
   "execution_count": 15,
   "id": "dd3e63be",
   "metadata": {},
   "outputs": [],
   "source": [
    "y_true_index=test_batches.classes\n",
    "y_pred_index=np.argmax(predictions, axis=-1)"
   ]
  },
  {
   "cell_type": "code",
   "execution_count": 16,
   "id": "f174ca02",
   "metadata": {},
   "outputs": [
    {
     "data": {
      "text/plain": [
       "array([[  0,   3,   1,  13,  27,  12,  74],\n",
       "       [  0,  11,  10,  29,  59,  58, 225],\n",
       "       [  0,   0,   2,   8,  15,  15,  71],\n",
       "       [  0,  12,   7,  31,  58,  66, 280],\n",
       "       [  2,   3,   9,  17,  62,  57, 207],\n",
       "       [  2,   6,   9,  43,  96,  82, 319],\n",
       "       [  1,   4,   2,  12,  23,  21,  79]], dtype=int64)"
      ]
     },
     "execution_count": 16,
     "metadata": {},
     "output_type": "execute_result"
    }
   ],
   "source": [
    "cm = confusion_matrix(y_true=y_true_index, y_pred=y_pred_index)\n",
    "cm"
   ]
  },
  {
   "cell_type": "code",
   "execution_count": 17,
   "id": "4a62ccad",
   "metadata": {},
   "outputs": [
    {
     "name": "stdout",
     "output_type": "stream",
     "text": [
      "Predict   0         1         2         3         4         5         6         \n",
      "Actual\n",
      "0         0         3         1         13        27        12        74        \n",
      "\n",
      "1         0         11        10        29        59        58        225       \n",
      "\n",
      "2         0         0         2         8         15        15        71        \n",
      "\n",
      "3         0         12        7         31        58        66        280       \n",
      "\n",
      "4         2         3         9         17        62        57        207       \n",
      "\n",
      "5         2         6         9         43        96        82        319       \n",
      "\n",
      "6         1         4         2         12        23        21        79        \n",
      "\n",
      "\n",
      "\n",
      "\n",
      "\n",
      "Overall Statistics : \n",
      "\n",
      "95% CI                                                            (0.11061,0.13857)\n",
      "ACC Macro                                                         0.74988\n",
      "ARI                                                               -0.00028\n",
      "AUNP                                                              0.50142\n",
      "AUNU                                                              0.4996\n",
      "Bangdiwala B                                                      0.0318\n",
      "Bennett S                                                         -0.02131\n",
      "CBA                                                               0.07117\n",
      "CSI                                                               -0.70925\n",
      "Chi-Squared                                                       35.90092\n",
      "Chi-Squared DF                                                    36\n",
      "Conditional Entropy                                               1.76871\n",
      "Cramer V                                                          0.05284\n",
      "Cross Entropy                                                     3.90931\n",
      "F1 Macro                                                          0.09423\n",
      "F1 Micro                                                          0.12459\n",
      "FNR Macro                                                         0.85834\n",
      "FNR Micro                                                         0.87541\n",
      "FPR Macro                                                         0.14245\n",
      "FPR Micro                                                         0.1459\n",
      "Gwet AC1                                                          -0.0089\n",
      "Hamming Loss                                                      0.87541\n",
      "Joint Entropy                                                     4.35324\n",
      "KL Divergence                                                     1.32479\n",
      "Kappa                                                             0.00236\n",
      "Kappa 95% CI                                                      (-0.01357,0.0183)\n",
      "Kappa No Prevalence                                               -0.75082\n",
      "Kappa Standard Error                                              0.00813\n",
      "Kappa Unbiased                                                    -0.10267\n",
      "Krippendorff Alpha                                                -0.10242\n",
      "Lambda A                                                          0.00441\n",
      "Lambda B                                                          0.0\n",
      "Mutual Information                                                0.01354\n",
      "NIR                                                               0.25992\n",
      "Overall ACC                                                       0.12459\n",
      "Overall CEN                                                       0.66793\n",
      "Overall J                                                         (0.35534,0.05076)\n",
      "Overall MCC                                                       0.00295\n",
      "Overall MCEN                                                      0.68862\n",
      "Overall RACC                                                      0.12252\n",
      "Overall RACCU                                                     0.2061\n",
      "P-Value                                                           None\n",
      "PPV Macro                                                         0.14909\n",
      "PPV Micro                                                         0.12459\n",
      "Pearson C                                                         0.12836\n",
      "Phi-Squared                                                       0.01675\n",
      "RCI                                                               0.00524\n",
      "RR                                                                306.14286\n",
      "Reference Entropy                                                 2.58453\n",
      "Response Entropy                                                  1.78225\n",
      "SOA1(Landis & Koch)                                               Slight\n",
      "SOA2(Fleiss)                                                      Poor\n",
      "SOA3(Altman)                                                      Poor\n",
      "SOA4(Cicchetti)                                                   Poor\n",
      "SOA5(Cramer)                                                      Negligible\n",
      "SOA6(Matthews)                                                    Negligible\n",
      "Scott PI                                                          -0.10267\n",
      "Standard Error                                                    0.00713\n",
      "TNR Macro                                                         0.85755\n",
      "TNR Micro                                                         0.8541\n",
      "TPR Macro                                                         0.14166\n",
      "TPR Micro                                                         0.12459\n",
      "Zero-one Loss                                                     1876\n",
      "\n",
      "Class Statistics :\n",
      "\n",
      "Classes                                                           0             1             2             3             4             5             6             \n",
      "ACC(Accuracy)                                                     0.937         0.80915       0.9314        0.74568       0.73262       0.67149       0.42184       \n",
      "AGF(Adjusted F-score)                                             0.0           0.1703        0.14044       0.25283       0.38331       0.35059       0.40119       \n",
      "AGM(Adjusted geometric mean)                                      0             0.53392       0.54586       0.54968       0.59268       0.56787       0.44675       \n",
      "AM(Difference between automatic and manual classification)        -125          -353          -71           -301          -17           -246          1113          \n",
      "AUC(Area under the ROC curve)                                     0.49876       0.50604       0.49966       0.49802       0.50901       0.50141       0.48432       \n",
      "AUCI(AUC value interpretation)                                    Poor          Poor          Poor          Poor          Poor          Poor          Poor          \n",
      "AUPR(Area under the PR curve)                                     0.0           0.15506       0.03401       0.13545       0.17801       0.20544       0.30964       \n",
      "BCD(Bray-Curtis dissimilarity)                                    0.02916       0.08236       0.01657       0.07023       0.00397       0.0574        0.25968       \n",
      "BM(Informedness or bookmaker informedness)                        -0.00248      0.01207       -0.00068      -0.00395      0.01801       0.00283       -0.03137      \n",
      "CEN(Confusion entropy)                                            0.55294       0.57232       0.6914        0.64448       0.70923       0.65633       0.70278       \n",
      "DOR(Diagnostic odds ratio)                                        0.0           1.77662       0.96282       0.94131       1.14006       1.02297       0.8797        \n",
      "DP(Discriminant power)                                            None          0.13761       -0.00907      -0.01448      0.03139       0.00544       -0.03069      \n",
      "DPI(Discriminant power interpretation)                            None          Poor          Poor          Poor          Poor          Poor          Poor          \n",
      "ERR(Error rate)                                                   0.063         0.19085       0.0686        0.25432       0.26738       0.32851       0.57816       \n",
      "F0.5(F0.5 score)                                                  0.0           0.10036       0.0369        0.1454        0.18055       0.22765       0.07652       \n",
      "F1(F1 score - harmonic mean of precision and sensitivity)         0.0           0.05104       0.02649       0.10214       0.17791       0.18894       0.1131        \n",
      "F2(F2 score)                                                      0.0           0.03423       0.02066       0.07872       0.17534       0.16148       0.21668       \n",
      "FDR(False discovery rate)                                         1.0           0.71795       0.95          0.79739       0.81765       0.73633       0.93705       \n",
      "FN(False negative/miss/type 2 error)                              130           381           109           423           295           475           63            \n",
      "FNR(Miss rate or false negative rate)                             1.0           0.97194       0.98198       0.93172       0.82633       0.85278       0.44366       \n",
      "FOR(False omission rate)                                          0.0608        0.18108       0.05183       0.21256       0.16362       0.25928       0.07095       \n",
      "FP(False positive/type 1 error/false alarm)                       5             28            38            122           278           229           1176          \n",
      "FPR(Fall-out or false positive rate)                              0.00248       0.01599       0.0187        0.07223       0.15566       0.14439       0.58771       \n",
      "G(G-measure geometric mean of precision and sensitivity)          0.0           0.08896       0.03002       0.11762       0.17796       0.19702       0.18714       \n",
      "GI(Gini index)                                                    -0.00248      0.01207       -0.00068      -0.00395      0.01801       0.00283       -0.03137      \n",
      "GM(G-mean geometric mean of specificity and sensitivity)          0.0           0.16617       0.13297       0.25169       0.38293       0.35491       0.47893       \n",
      "IBA(Index of balanced accuracy)                                   0.0           0.00122       0.00065       0.0089        0.04829       0.03673       0.26241       \n",
      "ICSI(Individual classification success index)                     -1.0          -0.68989      -0.93198      -0.7291       -0.64398      -0.58912      -0.38071      \n",
      "IS(Information score)                                             None          0.62474       -0.05093      -0.06432      0.13044       0.02066       -0.07402      \n",
      "J(Jaccard index)                                                  0.0           0.02619       0.01342       0.05382       0.09764       0.10433       0.05994       \n",
      "LS(Lift score)                                                    0.0           1.54193       0.96532       0.95639       1.09463       1.01443       0.94999       \n",
      "MCC(Matthews correlation coefficient)                             -0.01229      0.03491       -0.00112      -0.00627      0.01837       0.00352       -0.01584      \n",
      "MCCI(Matthews correlation coefficient interpretation)             Negligible    Negligible    Negligible    Negligible    Negligible    Negligible    Negligible    \n",
      "MCEN(Modified confusion entropy)                                  0.55294       0.57718       0.69539       0.65921       0.74465       0.68903       0.72289       \n",
      "MK(Markedness)                                                    -0.0608       0.10097       -0.00183      -0.00995      0.01874       0.00439       -0.008        \n",
      "N(Condition negative)                                             2013          1751          2032          1689          1786          1586          2001          \n",
      "NLR(Negative likelihood ratio)                                    1.00249       0.98773       1.0007        1.00426       0.97866       0.99669       1.07608       \n",
      "NLRI(Negative likelihood ratio interpretation)                    Negligible    Negligible    Negligible    Negligible    Negligible    Negligible    Negligible    \n",
      "NPV(Negative predictive value)                                    0.9392        0.81892       0.94817       0.78744       0.83638       0.74072       0.92905       \n",
      "OC(Overlap coefficient)                                           0.0           0.28205       0.05          0.20261       0.18235       0.26367       0.55634       \n",
      "OOC(Otsuka-Ochiai coefficient)                                    0.0           0.08896       0.03002       0.11762       0.17796       0.19702       0.18714       \n",
      "OP(Optimized precision)                                           -0.063        -0.1354       -0.03253      -0.11721      0.07381       -0.03491      0.27313       \n",
      "P(Condition positive or support)                                  130           392           111           454           357           557           142           \n",
      "PLR(Positive likelihood ratio)                                    0.0           1.75483       0.96349       0.94531       1.11573       1.01959       0.94663       \n",
      "PLRI(Positive likelihood ratio interpretation)                    Negligible    Poor          Negligible    Negligible    Poor          Poor          Negligible    \n",
      "POP(Population)                                                   2143          2143          2143          2143          2143          2143          2143          \n",
      "PPV(Precision or positive predictive value)                       0.0           0.28205       0.05          0.20261       0.18235       0.26367       0.06295       \n",
      "PRE(Prevalence)                                                   0.06066       0.18292       0.0518        0.21185       0.16659       0.25992       0.06626       \n",
      "Q(Yule Q - coefficient of colligation)                            -1.0          0.2797        -0.01894      -0.03023      0.06545       0.01136       -0.064        \n",
      "QI(Yule Q interpretation)                                         Negligible    Weak          Negligible    Negligible    Negligible    Negligible    Negligible    \n",
      "RACC(Random accuracy)                                             0.00014       0.00333       0.00097       0.01513       0.02643       0.03772       0.03881       \n",
      "RACCU(Random accuracy unbiased)                                   0.00099       0.01011       0.00124       0.02006       0.02645       0.04101       0.10624       \n",
      "TN(True negative/correct rejection)                               2008          1723          1994          1567          1508          1357          825           \n",
      "TNR(Specificity or true negative rate)                            0.99752       0.98401       0.9813        0.92777       0.84434       0.85561       0.41229       \n",
      "TON(Test outcome negative)                                        2138          2104          2103          1990          1803          1832          888           \n",
      "TOP(Test outcome positive)                                        5             39            40            153           340           311           1255          \n",
      "TP(True positive/hit)                                             0             11            2             31            62            82            79            \n",
      "TPR(Sensitivity, recall, hit rate, or true positive rate)         0.0           0.02806       0.01802       0.06828       0.17367       0.14722       0.55634       \n",
      "Y(Youden index)                                                   -0.00248      0.01207       -0.00068      -0.00395      0.01801       0.00283       -0.03137      \n",
      "dInd(Distance index)                                              1.0           0.97207       0.98216       0.93451       0.84086       0.86492       0.73637       \n",
      "sInd(Similarity index)                                            0.29289       0.31264       0.30551       0.3392        0.40542       0.38841       0.47931       \n",
      "\n"
     ]
    }
   ],
   "source": [
    "cm = ConfusionMatrix(actual_vector=y_true_index,predict_vector=y_pred_index)\n",
    "print(cm)"
   ]
  },
  {
   "cell_type": "code",
   "execution_count": 18,
   "id": "e9f6077a",
   "metadata": {},
   "outputs": [
    {
     "name": "stdout",
     "output_type": "stream",
     "text": [
      "                   pre       rec       spe        f1       geo       iba       sup\n",
      "\n",
      "      akiec       0.00      0.00      1.00      0.00      0.00      0.00       130\n",
      "        bcc       0.28      0.03      0.98      0.05      0.17      0.02       392\n",
      "         df       0.05      0.02      0.98      0.03      0.13      0.02       111\n",
      "        mel       0.20      0.07      0.93      0.10      0.25      0.06       454\n",
      "         nv       0.18      0.17      0.84      0.18      0.38      0.14       357\n",
      "        bkl       0.26      0.15      0.86      0.19      0.35      0.12       557\n",
      "       vasc       0.06      0.56      0.41      0.11      0.48      0.23       142\n",
      "\n",
      "avg / total       0.20      0.12      0.88      0.12      0.28      0.09      2143\n",
      "\n"
     ]
    },
    {
     "data": {
      "image/png": "[encoded data removed]",
      "text/plain": [
       "<Figure size 432x288 with 2 Axes>"
      ]
     },
     "metadata": {
      "needs_background": "light"
     },
     "output_type": "display_data"
    }
   ],
   "source": [
    "################################################################### Generate a classification report\n",
    "classes = ['akiec', 'bcc', 'df', 'mel', 'nv','bkl', 'vasc']\n",
    "report = classification_report_imbalanced(y_true_index, y_pred_index, target_names=classes)\n",
    "print(report)\n",
    "\n",
    "#################################################################### Generate Confusion matrix\n",
    "cm = confusion_matrix(y_true_index, y_pred_index,normalize='true')\n",
    "disp = ConfusionMatrixDisplay(confusion_matrix = np.round(cm,2), display_labels=classes)\n",
    "disp.plot(cmap=plt.cm.Blues)\n",
    "plt.show()"
   ]
  },
  {
   "cell_type": "markdown",
   "id": "d6646e45",
   "metadata": {},
   "source": [
    "## Tuned Model"
   ]
  },
  {
   "cell_type": "markdown",
   "id": "7b61fd47",
   "metadata": {},
   "source": [
    "### Running saved model in new data"
   ]
  },
  {
   "cell_type": "code",
   "execution_count": 26,
   "id": "81e3159e",
   "metadata": {},
   "outputs": [],
   "source": [
    "tuned_model = load_model('my_model_best', custom_objects={'get_f1':get_f1})"
   ]
  },
  {
   "cell_type": "code",
   "execution_count": 27,
   "id": "067cbeeb",
   "metadata": {},
   "outputs": [],
   "source": [
    "predictions = tuned_model.predict(x=test_batches, steps=len(test_batches), verbose=0)"
   ]
  },
  {
   "cell_type": "markdown",
   "id": "0f3b424a",
   "metadata": {},
   "source": [
    "### Model Assesment"
   ]
  },
  {
   "cell_type": "code",
   "execution_count": 28,
   "id": "80a9d219",
   "metadata": {},
   "outputs": [],
   "source": [
    "y_true_index=test_batches.classes\n",
    "y_pred_index=np.argmax(predictions, axis=-1)"
   ]
  },
  {
   "cell_type": "code",
   "execution_count": 29,
   "id": "bdd05167",
   "metadata": {},
   "outputs": [
    {
     "data": {
      "text/plain": [
       "array([[  0,   0,   0,   0,  50,   2,  78],\n",
       "       [  1,   0,   4,   1, 120,  13, 253],\n",
       "       [  1,   0,   1,   1,  41,   5,  62],\n",
       "       [  1,   4,   5,   0, 142,  17, 285],\n",
       "       [  0,   2,   4,   3, 105,  17, 226],\n",
       "       [  0,   3,  13,   0, 202,  18, 321],\n",
       "       [  0,   1,   2,   0,  43,   5,  91]], dtype=int64)"
      ]
     },
     "execution_count": 29,
     "metadata": {},
     "output_type": "execute_result"
    }
   ],
   "source": [
    "cm = confusion_matrix(y_true=y_true_index, y_pred=y_pred_index)\n",
    "cm"
   ]
  },
  {
   "cell_type": "code",
   "execution_count": 30,
   "id": "4ec6d304",
   "metadata": {},
   "outputs": [
    {
     "name": "stdout",
     "output_type": "stream",
     "text": [
      "Predict   0         1         2         3         4         5         6         \n",
      "Actual\n",
      "0         0         0         0         0         50        2         78        \n",
      "\n",
      "1         1         0         4         1         120       13        253       \n",
      "\n",
      "2         1         0         1         1         41        5         62        \n",
      "\n",
      "3         1         4         5         0         142       17        285       \n",
      "\n",
      "4         0         2         4         3         105       17        226       \n",
      "\n",
      "5         0         3         13        0         202       18        321       \n",
      "\n",
      "6         0         1         2         0         43        5         91        \n",
      "\n",
      "\n",
      "\n",
      "\n",
      "\n",
      "Overall Statistics : \n",
      "\n",
      "95% CI                                                            (0.08761,0.11305)\n",
      "ACC Macro                                                         0.74295\n",
      "ARI                                                               -0.00114\n",
      "AUNP                                                              0.49592\n",
      "AUNU                                                              0.49772\n",
      "Bangdiwala B                                                      0.04002\n",
      "Bennett S                                                         -0.04962\n",
      "CBA                                                               0.03712\n",
      "CSI                                                               -0.79099\n",
      "Chi-Squared                                                       41.87891\n",
      "Chi-Squared DF                                                    36\n",
      "Conditional Entropy                                               1.27071\n",
      "Cramer V                                                          0.05707\n",
      "Cross Entropy                                                     5.72715\n",
      "F1 Macro                                                          0.05629\n",
      "F1 Micro                                                          0.10033\n",
      "FNR Macro                                                         0.86053\n",
      "FNR Micro                                                         0.89967\n",
      "FPR Macro                                                         0.14402\n",
      "FPR Micro                                                         0.14995\n",
      "Gwet AC1                                                          -0.0339\n",
      "Hamming Loss                                                      0.89967\n",
      "Joint Entropy                                                     3.85524\n",
      "KL Divergence                                                     3.14262\n",
      "Kappa                                                             -0.00726\n",
      "Kappa 95% CI                                                      (-0.0215,0.00698)\n",
      "Kappa No Prevalence                                               -0.79935\n",
      "Kappa Standard Error                                              0.00727\n",
      "Kappa Unbiased                                                    -0.155\n",
      "Krippendorff Alpha                                                -0.15473\n",
      "Lambda A                                                          0.00315\n",
      "Lambda B                                                          0.0\n",
      "Mutual Information                                                0.01502\n",
      "NIR                                                               0.25992\n",
      "Overall ACC                                                       0.10033\n",
      "Overall CEN                                                       0.57399\n",
      "Overall J                                                         (0.21293,0.03042)\n",
      "Overall MCC                                                       -0.01002\n",
      "Overall MCEN                                                      0.58561\n",
      "Overall RACC                                                      0.10681\n",
      "Overall RACCU                                                     0.22106\n",
      "P-Value                                                           1.0\n",
      "PPV Macro                                                         0.06954\n",
      "PPV Micro                                                         0.10033\n",
      "Pearson C                                                         0.13845\n",
      "Phi-Squared                                                       0.01954\n",
      "RCI                                                               0.00581\n",
      "RR                                                                306.14286\n",
      "Reference Entropy                                                 2.58453\n",
      "Response Entropy                                                  1.28573\n",
      "SOA1(Landis & Koch)                                               Poor\n",
      "SOA2(Fleiss)                                                      Poor\n",
      "SOA3(Altman)                                                      Poor\n",
      "SOA4(Cicchetti)                                                   Poor\n",
      "SOA5(Cramer)                                                      Negligible\n",
      "SOA6(Matthews)                                                    Negligible\n",
      "Scott PI                                                          -0.155\n",
      "Standard Error                                                    0.00649\n",
      "TNR Macro                                                         0.85598\n",
      "TNR Micro                                                         0.85005\n",
      "TPR Macro                                                         0.13947\n",
      "TPR Micro                                                         0.10033\n",
      "Zero-one Loss                                                     1928\n",
      "\n",
      "Class Statistics :\n",
      "\n",
      "Classes                                                           0             1             2             3             4             5             6             \n",
      "ACC(Accuracy)                                                     0.93794       0.81241       0.9356        0.78581       0.60336       0.72095       0.40457       \n",
      "AGF(Adjusted F-score)                                             0.0           0.0           0.10049       0.0           0.44038       0.17397       0.42012       \n",
      "AGM(Adjusted geometric mean)                                      0             0             0.52838       0             0.54362       0.51086       0.44506       \n",
      "AM(Difference between automatic and manual classification)        -127          -382          -82           -449          346           -480          1174          \n",
      "AUC(Area under the ROC curve)                                     0.49925       0.49714       0.49761       0.49852       0.47965       0.49756       0.51433       \n",
      "AUCI(AUC value interpretation)                                    Poor          Poor          Poor          Poor          Poor          Poor          Poor          \n",
      "AUPR(Area under the PR curve)                                     0.0           0.0           0.02175       0.0           0.22174       0.13304       0.355         \n",
      "BCD(Bray-Curtis dissimilarity)                                    0.02963       0.08913       0.01913       0.10476       0.08073       0.11199       0.27392       \n",
      "BM(Informedness or bookmaker informedness)                        -0.00149      -0.00571      -0.00477      -0.00296      -0.04071      -0.00488      0.02865       \n",
      "CEN(Confusion entropy)                                            0.34375       0.38742       0.60908       0.38007       0.67487       0.47582       0.67347       \n",
      "DOR(Diagnostic odds ratio)                                        0.0           0.0           0.65065       0.0           0.82776       0.86431       1.13031       \n",
      "DP(Discriminant power)                                            None          None          -0.10291      None          -0.04526      -0.03492      0.02933       \n",
      "DPI(Discriminant power interpretation)                            None          None          Poor          None          Poor          Poor          Poor          \n",
      "ERR(Error rate)                                                   0.06206       0.18759       0.0644        0.21419       0.39664       0.27905       0.59543       \n",
      "F0.5(F0.5 score)                                                  0.0           0.0           0.02203       0.0           0.16567       0.10405       0.08417       \n",
      "F1(F1 score - harmonic mean of precision and sensitivity)         0.0           0.0           0.01429       0.0           0.19811       0.05678       0.12483       \n",
      "F2(F2 score)                                                      0.0           0.0           0.01057       0.0           0.24636       0.03905       0.24151       \n",
      "FDR(False discovery rate)                                         1.0           1.0           0.96552       1.0           0.85064       0.76623       0.93085       \n",
      "FN(False negative/miss/type 2 error)                              130           392           110           454           252           539           51            \n",
      "FNR(Miss rate or false negative rate)                             1.0           1.0           0.99099       1.0           0.70588       0.96768       0.35915       \n",
      "FOR(False omission rate)                                          0.06075       0.18378       0.05203       0.21235       0.175         0.26089       0.06167       \n",
      "FP(False positive/type 1 error/false alarm)                       3             10            28            5             598           59            1225          \n",
      "FPR(Fall-out or false positive rate)                              0.00149       0.00571       0.01378       0.00296       0.33483       0.0372        0.61219       \n",
      "G(G-measure geometric mean of precision and sensitivity)          0.0           0.0           0.01763       0.0           0.20959       0.08692       0.21051       \n",
      "GI(Gini index)                                                    -0.00149      -0.00571      -0.00477      -0.00296      -0.04071      -0.00488      0.02865       \n",
      "GM(G-mean geometric mean of specificity and sensitivity)          0.0           0.0           0.09426       0.0           0.44231       0.17639       0.49852       \n",
      "IBA(Index of balanced accuracy)                                   0.0           0.0           0.0002        0.0           0.12305       0.00216       0.31141       \n",
      "ICSI(Individual classification success index)                     -1.0          -1.0          -0.95651      -1.0          -0.55652      -0.73392      -0.29001      \n",
      "IS(Information score)                                             None          None          -0.58698      None          -0.1575       -0.15298      0.06152       \n",
      "J(Jaccard index)                                                  0.0           0.0           0.00719       0.0           0.10995       0.02922       0.06657       \n",
      "LS(Lift score)                                                    0.0           0.0           0.66573       0.0           0.89658       0.89939       1.04356       \n",
      "MCC(Matthews correlation coefficient)                             -0.00951      -0.0324       -0.00915      -0.02507      -0.03231      -0.01151      0.01464       \n",
      "MCCI(Matthews correlation coefficient interpretation)             Negligible    Negligible    Negligible    Negligible    Negligible    Negligible    Negligible    \n",
      "MCEN(Modified confusion entropy)                                  0.34375       0.38742       0.6106        0.38007       0.7117        0.47848       0.69409       \n",
      "MK(Markedness)                                                    -0.06075      -0.18378      -0.01755      -0.21235      -0.02564      -0.02712      0.00748       \n",
      "N(Condition negative)                                             2013          1751          2032          1689          1786          1586          2001          \n",
      "NLR(Negative likelihood ratio)                                    1.00149       1.00574       1.00484       1.00297       1.0612        1.00507       0.92612       \n",
      "NLRI(Negative likelihood ratio interpretation)                    Negligible    Negligible    Negligible    Negligible    Negligible    Negligible    Negligible    \n",
      "NPV(Negative predictive value)                                    0.93925       0.81622       0.94797       0.78765       0.825         0.73911       0.93833       \n",
      "OC(Overlap coefficient)                                           0.0           0.0           0.03448       0.0           0.29412       0.23377       0.64085       \n",
      "OOC(Otsuka-Ochiai coefficient)                                    0.0           0.0           0.01763       0.0           0.20959       0.08692       0.21051       \n",
      "OP(Optimized precision)                                           -0.06206      -0.18759      -0.04629      -0.21419      0.21656       -0.2141       0.15858       \n",
      "P(Condition positive or support)                                  130           392           111           454           357           557           142           \n",
      "PLR(Positive likelihood ratio)                                    0.0           0.0           0.6538        0.0           0.87842       0.8687        1.0468        \n",
      "PLRI(Positive likelihood ratio interpretation)                    Negligible    Negligible    Negligible    Negligible    Negligible    Negligible    Poor          \n",
      "POP(Population)                                                   2143          2143          2143          2143          2143          2143          2143          \n",
      "PPV(Precision or positive predictive value)                       0.0           0.0           0.03448       0.0           0.14936       0.23377       0.06915       \n",
      "PRE(Prevalence)                                                   0.06066       0.18292       0.0518        0.21185       0.16659       0.25992       0.06626       \n",
      "Q(Yule Q - coefficient of colligation)                            -1.0          -1.0          -0.21164      -1.0          -0.09424      -0.07278      0.06117       \n",
      "QI(Yule Q interpretation)                                         Negligible    Negligible    Negligible    Negligible    Negligible    Negligible    Negligible    \n",
      "RACC(Random accuracy)                                             8e-05         0.00085       0.0007        0.00049       0.05465       0.00934       0.04069       \n",
      "RACCU(Random accuracy unbiased)                                   0.00096       0.0088        0.00107       0.01147       0.06117       0.02188       0.11572       \n",
      "TN(True negative/correct rejection)                               2010          1741          2004          1684          1188          1527          776           \n",
      "TNR(Specificity or true negative rate)                            0.99851       0.99429       0.98622       0.99704       0.66517       0.9628        0.38781       \n",
      "TON(Test outcome negative)                                        2140          2133          2114          2138          1440          2066          827           \n",
      "TOP(Test outcome positive)                                        3             10            29            5             703           77            1316          \n",
      "TP(True positive/hit)                                             0             0             1             0             105           18            91            \n",
      "TPR(Sensitivity, recall, hit rate, or true positive rate)         0.0           0.0           0.00901       0.0           0.29412       0.03232       0.64085       \n",
      "Y(Youden index)                                                   -0.00149      -0.00571      -0.00477      -0.00296      -0.04071      -0.00488      0.02865       \n",
      "dInd(Distance index)                                              1.0           1.00002       0.99109       1.0           0.78127       0.9684        0.70977       \n",
      "sInd(Similarity index)                                            0.29289       0.29288       0.2992        0.29289       0.44756       0.31524       0.49812       \n",
      "\n"
     ]
    }
   ],
   "source": [
    "cm = ConfusionMatrix(actual_vector=y_true_index,predict_vector=y_pred_index)\n",
    "print(cm)"
   ]
  },
  {
   "cell_type": "code",
   "execution_count": 31,
   "id": "c81016f5",
   "metadata": {},
   "outputs": [
    {
     "name": "stdout",
     "output_type": "stream",
     "text": [
      "                   pre       rec       spe        f1       geo       iba       sup\n",
      "\n",
      "      akiec       0.00      0.00      1.00      0.00      0.00      0.00       130\n",
      "        bcc       0.00      0.00      0.99      0.00      0.00      0.00       392\n",
      "         df       0.03      0.01      0.99      0.01      0.09      0.01       111\n",
      "        mel       0.00      0.00      1.00      0.00      0.00      0.00       454\n",
      "         nv       0.15      0.29      0.67      0.20      0.44      0.19       357\n",
      "        bkl       0.23      0.03      0.96      0.06      0.18      0.03       557\n",
      "       vasc       0.07      0.64      0.39      0.12      0.50      0.25       142\n",
      "\n",
      "avg / total       0.09      0.10      0.89      0.06      0.16      0.06      2143\n",
      "\n"
     ]
    },
    {
     "data": {
      "image/png": "[encoded data removed]",
      "text/plain": [
       "<Figure size 432x288 with 2 Axes>"
      ]
     },
     "metadata": {
      "needs_background": "light"
     },
     "output_type": "display_data"
    }
   ],
   "source": [
    "################################################################### Generate a classification report\n",
    "classes = ['akiec', 'bcc', 'df', 'mel', 'nv','bkl', 'vasc']\n",
    "report = classification_report_imbalanced(y_true_index, y_pred_index, target_names=classes)\n",
    "print(report)\n",
    "\n",
    "#################################################################### Generate Confusion matrix\n",
    "cm = confusion_matrix(y_true_index, y_pred_index,normalize='true')\n",
    "disp = ConfusionMatrixDisplay(confusion_matrix = np.round(cm,2), display_labels=classes)\n",
    "disp.plot(cmap=plt.cm.Blues)\n",
    "plt.show()"
   ]
  }
 ],
 "metadata": {
  "kernelspec": {
   "display_name": "Python 3 (ipykernel)",
   "language": "python",
   "name": "python3"
  },
  "language_info": {
   "codemirror_mode": {
    "name": "ipython",
    "version": 3
   },
   "file_extension": ".py",
   "mimetype": "text/x-python",
   "name": "python",
   "nbconvert_exporter": "python",
   "pygments_lexer": "ipython3",
   "version": "3.8.12"
  }
 },
 "nbformat": 4,
 "nbformat_minor": 5
}
