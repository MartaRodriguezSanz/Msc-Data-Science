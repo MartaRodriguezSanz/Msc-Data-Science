{
 "cells": [
  {
   "cell_type": "markdown",
   "metadata": {
    "id": "vx0jilZ5VMXH"
   },
   "source": [
    "#Import all required libraries"
   ]
  },
  {
   "cell_type": "code",
   "execution_count": 8,
   "metadata": {
    "colab": {
     "base_uri": "https://localhost:8080/",
     "height": 1000
    },
    "id": "CsaRerETyqzc",
    "outputId": "455c49e0-2f8f-468c-abb0-aba90d747cb6"
   },
   "outputs": [
    {
     "name": "stdout",
     "output_type": "stream",
     "text": [
      "Requirement already satisfied: split-folders in /usr/local/lib/python3.7/dist-packages (0.5.1)\n",
      "Requirement already satisfied: pydub in /usr/local/lib/python3.7/dist-packages (0.25.1)\n",
      "Collecting pesq\n",
      "  Downloading pesq-0.0.3.tar.gz (35 kB)\n",
      "Building wheels for collected packages: pesq\n",
      "  Building wheel for pesq (setup.py) ... \u001b[?25l\u001b[?25hdone\n",
      "  Created wheel for pesq: filename=pesq-0.0.3-cp37-cp37m-linux_x86_64.whl size=210448 sha256=04aa9400206cef2c9412acdb5c74337974db854354217c66d732049ecf55b79b\n",
      "  Stored in directory: /root/.cache/pip/wheels/4f/67/5b/aa7cf31fe0c7199e35c604bb7bc91c629a13726bf221fedba0\n",
      "Successfully built pesq\n",
      "Installing collected packages: pesq\n",
      "Successfully installed pesq-0.0.3\n",
      "Collecting pystoi\n",
      "  Downloading pystoi-0.3.3.tar.gz (7.0 kB)\n",
      "Requirement already satisfied: numpy in /usr/local/lib/python3.7/dist-packages (from pystoi) (1.21.6)\n",
      "Requirement already satisfied: scipy in /usr/local/lib/python3.7/dist-packages (from pystoi) (1.4.1)\n",
      "Building wheels for collected packages: pystoi\n",
      "  Building wheel for pystoi (setup.py) ... \u001b[?25l\u001b[?25hdone\n",
      "  Created wheel for pystoi: filename=pystoi-0.3.3-py2.py3-none-any.whl size=7793 sha256=ae4e9d40da9176c1a1478aa1e65a121f3abdfafac3b41bfbeebdaf88dda491f6\n",
      "  Stored in directory: /root/.cache/pip/wheels/46/4a/ad/3ab460193ed0535430b4b1575f255aa6bae69df17453628e86\n",
      "Successfully built pystoi\n",
      "Installing collected packages: pystoi\n",
      "Successfully installed pystoi-0.3.3\n",
      "Collecting speechmetrics[cpu]\n",
      "  Cloning https://github.com/aliutkus/speechmetrics to /tmp/pip-install-df3444io/speechmetrics_da38115b7ca8497d9cec9001bed85fc2\n",
      "  Running command git clone -q https://github.com/aliutkus/speechmetrics /tmp/pip-install-df3444io/speechmetrics_da38115b7ca8497d9cec9001bed85fc2\n",
      "Collecting pypesq@ git+https://github.com/vBaiCai/python-pesq\n",
      "  Cloning https://github.com/vBaiCai/python-pesq to /tmp/pip-install-df3444io/pypesq_beae3ba1b9294692b4ac652503ca88c1\n",
      "  Running command git clone -q https://github.com/vBaiCai/python-pesq /tmp/pip-install-df3444io/pypesq_beae3ba1b9294692b4ac652503ca88c1\n",
      "Collecting srmrpy@ git+https://github.com/jfsantos/SRMRpy\n",
      "  Cloning https://github.com/jfsantos/SRMRpy to /tmp/pip-install-df3444io/srmrpy_4435b0b53e5e4bbea0df6dad2c2f3223\n",
      "  Running command git clone -q https://github.com/jfsantos/SRMRpy /tmp/pip-install-df3444io/srmrpy_4435b0b53e5e4bbea0df6dad2c2f3223\n",
      "Collecting pesq@ git+https://github.com/ludlows/python-pesq\n",
      "  Cloning https://github.com/ludlows/python-pesq to /tmp/pip-install-df3444io/pesq_d776563288cc4239ac5db9335cb73e3a\n",
      "  Running command git clone -q https://github.com/ludlows/python-pesq /tmp/pip-install-df3444io/pesq_d776563288cc4239ac5db9335cb73e3a\n",
      "Requirement already satisfied: numpy in /usr/local/lib/python3.7/dist-packages (from speechmetrics[cpu]) (1.21.6)\n",
      "Requirement already satisfied: scipy in /usr/local/lib/python3.7/dist-packages (from speechmetrics[cpu]) (1.4.1)\n",
      "Requirement already satisfied: tqdm in /usr/local/lib/python3.7/dist-packages (from speechmetrics[cpu]) (4.64.0)\n",
      "Requirement already satisfied: resampy in /usr/local/lib/python3.7/dist-packages (from speechmetrics[cpu]) (0.2.2)\n",
      "Requirement already satisfied: pystoi in /usr/local/lib/python3.7/dist-packages (from speechmetrics[cpu]) (0.3.3)\n",
      "Collecting museval\n",
      "  Downloading museval-0.4.0-py2.py3-none-any.whl (21 kB)\n",
      "Requirement already satisfied: tensorflow>=2.0.0 in /usr/local/lib/python3.7/dist-packages (from speechmetrics[cpu]) (2.8.0)\n",
      "Requirement already satisfied: librosa in /usr/local/lib/python3.7/dist-packages (from speechmetrics[cpu]) (0.8.1)\n",
      "Collecting Gammatone@ https://github.com/detly/gammatone/archive/master.zip#egg=Gammatone\n",
      "  Downloading https://github.com/detly/gammatone/archive/master.zip\n",
      "\u001b[K     | 59.4 MB 37 kB/s\n",
      "\u001b[?25hCollecting nose\n",
      "  Downloading nose-1.3.7-py3-none-any.whl (154 kB)\n",
      "\u001b[K     |████████████████████████████████| 154 kB 7.4 MB/s \n",
      "\u001b[?25hCollecting mock\n",
      "  Downloading mock-4.0.3-py3-none-any.whl (28 kB)\n",
      "Requirement already satisfied: matplotlib in /usr/local/lib/python3.7/dist-packages (from Gammatone@ https://github.com/detly/gammatone/archive/master.zip#egg=Gammatone->srmrpy@ git+https://github.com/jfsantos/SRMRpy->speechmetrics[cpu]) (3.2.2)\n",
      "Requirement already satisfied: h5py>=2.9.0 in /usr/local/lib/python3.7/dist-packages (from tensorflow>=2.0.0->speechmetrics[cpu]) (3.1.0)\n",
      "Requirement already satisfied: wrapt>=1.11.0 in /usr/local/lib/python3.7/dist-packages (from tensorflow>=2.0.0->speechmetrics[cpu]) (1.14.0)\n",
      "Requirement already satisfied: tensorflow-io-gcs-filesystem>=0.23.1 in /usr/local/lib/python3.7/dist-packages (from tensorflow>=2.0.0->speechmetrics[cpu]) (0.24.0)\n",
      "Requirement already satisfied: grpcio<2.0,>=1.24.3 in /usr/local/lib/python3.7/dist-packages (from tensorflow>=2.0.0->speechmetrics[cpu]) (1.44.0)\n",
      "Requirement already satisfied: opt-einsum>=2.3.2 in /usr/local/lib/python3.7/dist-packages (from tensorflow>=2.0.0->speechmetrics[cpu]) (3.3.0)\n",
      "Requirement already satisfied: flatbuffers>=1.12 in /usr/local/lib/python3.7/dist-packages (from tensorflow>=2.0.0->speechmetrics[cpu]) (2.0)\n",
      "Requirement already satisfied: keras-preprocessing>=1.1.1 in /usr/local/lib/python3.7/dist-packages (from tensorflow>=2.0.0->speechmetrics[cpu]) (1.1.2)\n",
      "Requirement already satisfied: protobuf>=3.9.2 in /usr/local/lib/python3.7/dist-packages (from tensorflow>=2.0.0->speechmetrics[cpu]) (3.17.3)\n",
      "Requirement already satisfied: six>=1.12.0 in /usr/local/lib/python3.7/dist-packages (from tensorflow>=2.0.0->speechmetrics[cpu]) (1.15.0)\n",
      "Requirement already satisfied: absl-py>=0.4.0 in /usr/local/lib/python3.7/dist-packages (from tensorflow>=2.0.0->speechmetrics[cpu]) (1.0.0)\n",
      "Requirement already satisfied: termcolor>=1.1.0 in /usr/local/lib/python3.7/dist-packages (from tensorflow>=2.0.0->speechmetrics[cpu]) (1.1.0)\n",
      "Requirement already satisfied: astunparse>=1.6.0 in /usr/local/lib/python3.7/dist-packages (from tensorflow>=2.0.0->speechmetrics[cpu]) (1.6.3)\n",
      "Requirement already satisfied: gast>=0.2.1 in /usr/local/lib/python3.7/dist-packages (from tensorflow>=2.0.0->speechmetrics[cpu]) (0.5.3)\n",
      "Requirement already satisfied: libclang>=9.0.1 in /usr/local/lib/python3.7/dist-packages (from tensorflow>=2.0.0->speechmetrics[cpu]) (13.0.0)\n",
      "Requirement already satisfied: google-pasta>=0.1.1 in /usr/local/lib/python3.7/dist-packages (from tensorflow>=2.0.0->speechmetrics[cpu]) (0.2.0)\n",
      "Collecting tf-estimator-nightly==2.8.0.dev2021122109\n",
      "  Downloading tf_estimator_nightly-2.8.0.dev2021122109-py2.py3-none-any.whl (462 kB)\n",
      "\u001b[K     |████████████████████████████████| 462 kB 62.2 MB/s \n",
      "\u001b[?25hRequirement already satisfied: tensorboard<2.9,>=2.8 in /usr/local/lib/python3.7/dist-packages (from tensorflow>=2.0.0->speechmetrics[cpu]) (2.8.0)\n",
      "Requirement already satisfied: setuptools in /usr/local/lib/python3.7/dist-packages (from tensorflow>=2.0.0->speechmetrics[cpu]) (57.4.0)\n",
      "Requirement already satisfied: typing-extensions>=3.6.6 in /usr/local/lib/python3.7/dist-packages (from tensorflow>=2.0.0->speechmetrics[cpu]) (4.2.0)\n",
      "Requirement already satisfied: keras<2.9,>=2.8.0rc0 in /usr/local/lib/python3.7/dist-packages (from tensorflow>=2.0.0->speechmetrics[cpu]) (2.8.0)\n",
      "Requirement already satisfied: wheel<1.0,>=0.23.0 in /usr/local/lib/python3.7/dist-packages (from astunparse>=1.6.0->tensorflow>=2.0.0->speechmetrics[cpu]) (0.37.1)\n",
      "Requirement already satisfied: cached-property in /usr/local/lib/python3.7/dist-packages (from h5py>=2.9.0->tensorflow>=2.0.0->speechmetrics[cpu]) (1.5.2)\n",
      "Requirement already satisfied: google-auth-oauthlib<0.5,>=0.4.1 in /usr/local/lib/python3.7/dist-packages (from tensorboard<2.9,>=2.8->tensorflow>=2.0.0->speechmetrics[cpu]) (0.4.6)\n",
      "Requirement already satisfied: markdown>=2.6.8 in /usr/local/lib/python3.7/dist-packages (from tensorboard<2.9,>=2.8->tensorflow>=2.0.0->speechmetrics[cpu]) (3.3.6)\n",
      "Requirement already satisfied: werkzeug>=0.11.15 in /usr/local/lib/python3.7/dist-packages (from tensorboard<2.9,>=2.8->tensorflow>=2.0.0->speechmetrics[cpu]) (1.0.1)\n",
      "Requirement already satisfied: tensorboard-plugin-wit>=1.6.0 in /usr/local/lib/python3.7/dist-packages (from tensorboard<2.9,>=2.8->tensorflow>=2.0.0->speechmetrics[cpu]) (1.8.1)\n",
      "Requirement already satisfied: requests<3,>=2.21.0 in /usr/local/lib/python3.7/dist-packages (from tensorboard<2.9,>=2.8->tensorflow>=2.0.0->speechmetrics[cpu]) (2.23.0)\n",
      "Requirement already satisfied: tensorboard-data-server<0.7.0,>=0.6.0 in /usr/local/lib/python3.7/dist-packages (from tensorboard<2.9,>=2.8->tensorflow>=2.0.0->speechmetrics[cpu]) (0.6.1)\n",
      "Requirement already satisfied: google-auth<3,>=1.6.3 in /usr/local/lib/python3.7/dist-packages (from tensorboard<2.9,>=2.8->tensorflow>=2.0.0->speechmetrics[cpu]) (1.35.0)\n",
      "Requirement already satisfied: cachetools<5.0,>=2.0.0 in /usr/local/lib/python3.7/dist-packages (from google-auth<3,>=1.6.3->tensorboard<2.9,>=2.8->tensorflow>=2.0.0->speechmetrics[cpu]) (4.2.4)\n",
      "Requirement already satisfied: rsa<5,>=3.1.4 in /usr/local/lib/python3.7/dist-packages (from google-auth<3,>=1.6.3->tensorboard<2.9,>=2.8->tensorflow>=2.0.0->speechmetrics[cpu]) (4.8)\n",
      "Requirement already satisfied: pyasn1-modules>=0.2.1 in /usr/local/lib/python3.7/dist-packages (from google-auth<3,>=1.6.3->tensorboard<2.9,>=2.8->tensorflow>=2.0.0->speechmetrics[cpu]) (0.2.8)\n",
      "Requirement already satisfied: requests-oauthlib>=0.7.0 in /usr/local/lib/python3.7/dist-packages (from google-auth-oauthlib<0.5,>=0.4.1->tensorboard<2.9,>=2.8->tensorflow>=2.0.0->speechmetrics[cpu]) (1.3.1)\n",
      "Requirement already satisfied: importlib-metadata>=4.4 in /usr/local/lib/python3.7/dist-packages (from markdown>=2.6.8->tensorboard<2.9,>=2.8->tensorflow>=2.0.0->speechmetrics[cpu]) (4.11.3)\n",
      "Requirement already satisfied: zipp>=0.5 in /usr/local/lib/python3.7/dist-packages (from importlib-metadata>=4.4->markdown>=2.6.8->tensorboard<2.9,>=2.8->tensorflow>=2.0.0->speechmetrics[cpu]) (3.8.0)\n",
      "Requirement already satisfied: pyasn1<0.5.0,>=0.4.6 in /usr/local/lib/python3.7/dist-packages (from pyasn1-modules>=0.2.1->google-auth<3,>=1.6.3->tensorboard<2.9,>=2.8->tensorflow>=2.0.0->speechmetrics[cpu]) (0.4.8)\n",
      "Requirement already satisfied: certifi>=2017.4.17 in /usr/local/lib/python3.7/dist-packages (from requests<3,>=2.21.0->tensorboard<2.9,>=2.8->tensorflow>=2.0.0->speechmetrics[cpu]) (2021.10.8)\n",
      "Requirement already satisfied: idna<3,>=2.5 in /usr/local/lib/python3.7/dist-packages (from requests<3,>=2.21.0->tensorboard<2.9,>=2.8->tensorflow>=2.0.0->speechmetrics[cpu]) (2.10)\n",
      "Requirement already satisfied: urllib3!=1.25.0,!=1.25.1,<1.26,>=1.21.1 in /usr/local/lib/python3.7/dist-packages (from requests<3,>=2.21.0->tensorboard<2.9,>=2.8->tensorflow>=2.0.0->speechmetrics[cpu]) (1.24.3)\n",
      "Requirement already satisfied: chardet<4,>=3.0.2 in /usr/local/lib/python3.7/dist-packages (from requests<3,>=2.21.0->tensorboard<2.9,>=2.8->tensorflow>=2.0.0->speechmetrics[cpu]) (3.0.4)\n",
      "Requirement already satisfied: oauthlib>=3.0.0 in /usr/local/lib/python3.7/dist-packages (from requests-oauthlib>=0.7.0->google-auth-oauthlib<0.5,>=0.4.1->tensorboard<2.9,>=2.8->tensorflow>=2.0.0->speechmetrics[cpu]) (3.2.0)\n",
      "Requirement already satisfied: numba>=0.43.0 in /usr/local/lib/python3.7/dist-packages (from librosa->speechmetrics[cpu]) (0.51.2)\n",
      "Requirement already satisfied: soundfile>=0.10.2 in /usr/local/lib/python3.7/dist-packages (from librosa->speechmetrics[cpu]) (0.10.3.post1)\n",
      "Requirement already satisfied: packaging>=20.0 in /usr/local/lib/python3.7/dist-packages (from librosa->speechmetrics[cpu]) (21.3)\n",
      "Requirement already satisfied: decorator>=3.0.0 in /usr/local/lib/python3.7/dist-packages (from librosa->speechmetrics[cpu]) (4.4.2)\n",
      "Requirement already satisfied: scikit-learn!=0.19.0,>=0.14.0 in /usr/local/lib/python3.7/dist-packages (from librosa->speechmetrics[cpu]) (1.0.2)\n",
      "Requirement already satisfied: joblib>=0.14 in /usr/local/lib/python3.7/dist-packages (from librosa->speechmetrics[cpu]) (1.1.0)\n",
      "Requirement already satisfied: audioread>=2.0.0 in /usr/local/lib/python3.7/dist-packages (from librosa->speechmetrics[cpu]) (2.1.9)\n",
      "Requirement already satisfied: pooch>=1.0 in /usr/local/lib/python3.7/dist-packages (from librosa->speechmetrics[cpu]) (1.6.0)\n",
      "Requirement already satisfied: llvmlite<0.35,>=0.34.0.dev0 in /usr/local/lib/python3.7/dist-packages (from numba>=0.43.0->librosa->speechmetrics[cpu]) (0.34.0)\n",
      "Requirement already satisfied: pyparsing!=3.0.5,>=2.0.2 in /usr/local/lib/python3.7/dist-packages (from packaging>=20.0->librosa->speechmetrics[cpu]) (3.0.8)\n",
      "Requirement already satisfied: appdirs>=1.3.0 in /usr/local/lib/python3.7/dist-packages (from pooch>=1.0->librosa->speechmetrics[cpu]) (1.4.4)\n",
      "Requirement already satisfied: threadpoolctl>=2.0.0 in /usr/local/lib/python3.7/dist-packages (from scikit-learn!=0.19.0,>=0.14.0->librosa->speechmetrics[cpu]) (3.1.0)\n",
      "Requirement already satisfied: cffi>=1.0 in /usr/local/lib/python3.7/dist-packages (from soundfile>=0.10.2->librosa->speechmetrics[cpu]) (1.15.0)\n",
      "Requirement already satisfied: pycparser in /usr/local/lib/python3.7/dist-packages (from cffi>=1.0->soundfile>=0.10.2->librosa->speechmetrics[cpu]) (2.21)\n",
      "Requirement already satisfied: python-dateutil>=2.1 in /usr/local/lib/python3.7/dist-packages (from matplotlib->Gammatone@ https://github.com/detly/gammatone/archive/master.zip#egg=Gammatone->srmrpy@ git+https://github.com/jfsantos/SRMRpy->speechmetrics[cpu]) (2.8.2)\n",
      "Requirement already satisfied: cycler>=0.10 in /usr/local/lib/python3.7/dist-packages (from matplotlib->Gammatone@ https://github.com/detly/gammatone/archive/master.zip#egg=Gammatone->srmrpy@ git+https://github.com/jfsantos/SRMRpy->speechmetrics[cpu]) (0.11.0)\n",
      "Requirement already satisfied: kiwisolver>=1.0.1 in /usr/local/lib/python3.7/dist-packages (from matplotlib->Gammatone@ https://github.com/detly/gammatone/archive/master.zip#egg=Gammatone->srmrpy@ git+https://github.com/jfsantos/SRMRpy->speechmetrics[cpu]) (1.4.2)\n",
      "Requirement already satisfied: pandas>=1.0.1 in /usr/local/lib/python3.7/dist-packages (from museval->speechmetrics[cpu]) (1.3.5)\n",
      "Requirement already satisfied: jsonschema in /usr/local/lib/python3.7/dist-packages (from museval->speechmetrics[cpu]) (4.3.3)\n",
      "Collecting musdb>=0.4.0\n",
      "  Downloading musdb-0.4.0-py2.py3-none-any.whl (29 kB)\n",
      "Collecting simplejson\n",
      "  Downloading simplejson-3.17.6-cp37-cp37m-manylinux_2_5_x86_64.manylinux1_x86_64.manylinux_2_12_x86_64.manylinux2010_x86_64.whl (130 kB)\n",
      "\u001b[K     |████████████████████████████████| 130 kB 44.9 MB/s \n",
      "\u001b[?25hCollecting pyaml\n",
      "  Downloading pyaml-21.10.1-py2.py3-none-any.whl (24 kB)\n",
      "Collecting stempeg>=0.2.3\n",
      "  Downloading stempeg-0.2.3-py3-none-any.whl (963 kB)\n",
      "\u001b[K     |████████████████████████████████| 963 kB 33.3 MB/s \n",
      "\u001b[?25hRequirement already satisfied: pytz>=2017.3 in /usr/local/lib/python3.7/dist-packages (from pandas>=1.0.1->museval->speechmetrics[cpu]) (2022.1)\n",
      "Collecting ffmpeg-python>=0.2.0\n",
      "  Downloading ffmpeg_python-0.2.0-py3-none-any.whl (25 kB)\n",
      "Requirement already satisfied: future in /usr/local/lib/python3.7/dist-packages (from ffmpeg-python>=0.2.0->stempeg>=0.2.3->musdb>=0.4.0->museval->speechmetrics[cpu]) (0.16.0)\n",
      "Requirement already satisfied: pyrsistent!=0.17.0,!=0.17.1,!=0.17.2,>=0.14.0 in /usr/local/lib/python3.7/dist-packages (from jsonschema->museval->speechmetrics[cpu]) (0.18.1)\n",
      "Requirement already satisfied: attrs>=17.4.0 in /usr/local/lib/python3.7/dist-packages (from jsonschema->museval->speechmetrics[cpu]) (21.4.0)\n",
      "Requirement already satisfied: importlib-resources>=1.4.0 in /usr/local/lib/python3.7/dist-packages (from jsonschema->museval->speechmetrics[cpu]) (5.7.1)\n",
      "Requirement already satisfied: PyYAML in /usr/local/lib/python3.7/dist-packages (from pyaml->musdb>=0.4.0->museval->speechmetrics[cpu]) (3.13)\n",
      "Building wheels for collected packages: speechmetrics, pypesq, srmrpy, Gammatone\n",
      "  Building wheel for speechmetrics (setup.py) ... \u001b[?25l\u001b[?25hdone\n",
      "  Created wheel for speechmetrics: filename=speechmetrics-1.0-py3-none-any.whl size=13232374 sha256=dcf01935a8b4494ea893813f3a07a01874f08b7079768b133b388685ccee74ab\n",
      "  Stored in directory: /tmp/pip-ephem-wheel-cache-2xtdh4z7/wheels/2a/21/e7/f21a8f2fa9a6ce5875dd345e0c465b639150661d106e2a8cae\n",
      "  Building wheel for pypesq (setup.py) ... \u001b[?25l\u001b[?25hdone\n",
      "  Created wheel for pypesq: filename=pypesq-1.2.4-cp37-cp37m-linux_x86_64.whl size=85056 sha256=3104172648d54e62789cd76de71a107ed2ec6e876ad96831ce99759d6c6b2e93\n",
      "  Stored in directory: /tmp/pip-ephem-wheel-cache-2xtdh4z7/wheels/4b/c4/6d/67c55ea29b6f24f8be327cbff211cef2cb75309bc09d19a1a5\n",
      "  Building wheel for srmrpy (setup.py) ... \u001b[?25l\u001b[?25hdone\n",
      "  Created wheel for srmrpy: filename=SRMRpy-1.0-py3-none-any.whl size=9402 sha256=76c49690a6a35dfacd9f40d97aac65fba94ff7cb53ca5f461293a02979fc075b\n",
      "  Stored in directory: /tmp/pip-ephem-wheel-cache-2xtdh4z7/wheels/4b/94/11/396a6022020ae5e4fb67a12c25c3d7c74a2d671b7580b7562d\n",
      "  Building wheel for Gammatone (setup.py) ... \u001b[?25l\u001b[?25hdone\n",
      "  Created wheel for Gammatone: filename=Gammatone-1.0-py3-none-any.whl size=21795 sha256=dfb47883008c2c6648d182a9a45638dedee903912000724c183e1cf19ff920f5\n",
      "  Stored in directory: /tmp/pip-ephem-wheel-cache-2xtdh4z7/wheels/e0/fa/5b/8644bd8d200b553ee0660d20a27df3ad6d5b821b13d579f193\n",
      "Successfully built speechmetrics pypesq srmrpy Gammatone\n",
      "Installing collected packages: ffmpeg-python, stempeg, pyaml, nose, mock, simplejson, musdb, Gammatone, tf-estimator-nightly, srmrpy, pypesq, museval, speechmetrics\n",
      "Successfully installed Gammatone-1.0 ffmpeg-python-0.2.0 mock-4.0.3 musdb-0.4.0 museval-0.4.0 nose-1.3.7 pyaml-21.10.1 pypesq-1.2.4 simplejson-3.17.6 speechmetrics-1.0 srmrpy-1.0 stempeg-0.2.3 tf-estimator-nightly-2.8.0.dev2021122109\n"
     ]
    },
    {
     "data": {
      "application/vnd.colab-display-data+json": {
       "pip_warning": {
        "packages": [
         "numpy"
        ]
       }
      }
     },
     "metadata": {},
     "output_type": "display_data"
    }
   ],
   "source": [
    "!pip install split-folders\n",
    "!pip install pydub\n",
    "!pip install pesq\n",
    "!pip install pystoi\n",
    "!pip install git+https://github.com/aliutkus/speechmetrics#egg=speechmetrics[cpu]"
   ]
  },
  {
   "cell_type": "code",
   "execution_count": 9,
   "metadata": {
    "id": "7sMW3MDV8YZ9"
   },
   "outputs": [],
   "source": [
    "############################################################ import libraries\n",
    "import numpy as np\n",
    "# Packages we're using\n",
    "from sklearn.model_selection import train_test_split\n",
    "import numpy as np\n",
    "import matplotlib.pyplot as plt\n",
    "import copy\n",
    "from scipy.io import wavfile\n",
    "from scipy.signal import butter, lfilter\n",
    "import scipy.ndimage\n",
    "from tqdm import tqdm\n",
    "import numpy as np\n",
    "import math\n",
    "from PIL import Image\n",
    "import time\n",
    "from pydub import AudioSegment\n",
    "from pydub.playback import play\n",
    "import glob\n",
    "import os\n",
    "from keras.callbacks import EarlyStopping\n",
    "import tensorflow as tf\n",
    "import splitfolders\n",
    "import shutil\n",
    "import random\n",
    "# importing necessary libraries\n",
    "import tensorflow as tf\n",
    "from keras.datasets import cifar10\n",
    "from keras.models import Sequential\n",
    "from keras.layers import Dense\n",
    "from keras.layers import Dropout, Input\n",
    "from keras.layers import Flatten,concatenate,UpSampling2D,ZeroPadding2D,Cropping2D\n",
    "from keras.constraints import maxnorm\n",
    "from tensorflow.keras.optimizers import SGD,Adam\n",
    "from keras.layers.convolutional import Conv2D, Conv2DTranspose\n",
    "from keras.layers.convolutional import MaxPooling2D\n",
    "from keras.utils import np_utils\n",
    "from keras.metrics import TopKCategoricalAccuracy\n",
    "import collections\n",
    "import random\n",
    "import matplotlib.pyplot as plt\n",
    "import numpy as np\n",
    "from keras.layers import LSTM,Embedding,Rescaling,TimeDistributed,BatchNormalization,LeakyReLU\n",
    "from keras.callbacks import ModelCheckpoint\n",
    "import wave\n",
    "from pesq import pesq\n",
    "import IPython.display as ipd\n",
    "import librosa\n",
    "import librosa.display\n",
    "from ipykernel import kernelapp as app\n",
    "import soundfile as sf\n",
    "from pystoi import stoi\n",
    "import speechmetrics\n",
    "import sys\n",
    "\n",
    "import numpy as np\n",
    "# Packages we're using\n",
    "from sklearn.model_selection import train_test_split\n",
    "import numpy as np\n",
    "import matplotlib.pyplot as plt\n",
    "import copy\n",
    "from scipy.io import wavfile\n",
    "from scipy.signal import butter, lfilter\n",
    "import scipy.ndimage\n",
    "from tqdm import tqdm\n",
    "import numpy as np\n",
    "import math\n",
    "from PIL import Image\n",
    "import time\n",
    "from pydub import AudioSegment\n",
    "from pydub.playback import play\n",
    "import glob\n",
    "import os\n",
    "import tensorflow as tf\n",
    "import splitfolders\n",
    "import shutil\n",
    "import keras\n",
    "# importing necessary libraries\n",
    "import tensorflow as tf\n",
    "from keras.datasets import cifar10\n",
    "from keras.models import Sequential\n",
    "from keras.layers import Dense\n",
    "from keras.layers import Dropout, Input\n",
    "from keras.layers import Flatten,concatenate,UpSampling2D,ZeroPadding2D,Cropping2D, Activation\n",
    "from keras.constraints import maxnorm\n",
    "from tensorflow.keras.optimizers import SGD,Adam\n",
    "from keras.layers.convolutional import Conv2D, Conv2DTranspose, Conv1D, Conv1DTranspose\n",
    "#from SpectralNormalizationKeras import DenseSN, ConvSN1D, ConvSN2D, ConvSN3D\n",
    "from keras.layers.convolutional import MaxPooling2D\n",
    "from keras.utils import np_utils\n",
    "from keras.metrics import TopKCategoricalAccuracy\n",
    "import collections\n",
    "import random\n",
    "import matplotlib.pyplot as plt\n",
    "import numpy as np\n",
    "from keras.layers import LSTM,Embedding,Rescaling,TimeDistributed,BatchNormalization\n",
    "from keras.callbacks import ModelCheckpoint\n",
    "import wave"
   ]
  },
  {
   "cell_type": "markdown",
   "metadata": {
    "id": "xnDHfu9FVjOb"
   },
   "source": [
    "# Obtain data from Kaggle and from our generated dataset"
   ]
  },
  {
   "cell_type": "code",
   "execution_count": 10,
   "metadata": {
    "id": "PqScw_Q1Vkdc"
   },
   "outputs": [],
   "source": [
    "! mkdir ~/.kaggle\n",
    "! cp kaggle.json ~/.kaggle/\n",
    "! chmod 600 ~/.kaggle/kaggle.json"
   ]
  },
  {
   "cell_type": "code",
   "execution_count": 11,
   "metadata": {
    "colab": {
     "base_uri": "https://localhost:8080/"
    },
    "id": "BSv5LCE-Vqdq",
    "outputId": "6e5c769c-9a0b-4933-83c7-8a469a0a5dc4"
   },
   "outputs": [
    {
     "name": "stdout",
     "output_type": "stream",
     "text": [
      "Downloading libri-speech-noise-dataset.zip to /content\n",
      "100% 6.01G/6.03G [00:58<00:00, 65.1MB/s]\n",
      "100% 6.03G/6.03G [00:58<00:00, 111MB/s] \n"
     ]
    }
   ],
   "source": [
    "################################################################## Libri dataset\n",
    "!kaggle datasets download -d earth16/libri-speech-noise-dataset"
   ]
  },
  {
   "cell_type": "code",
   "execution_count": null,
   "metadata": {},
   "outputs": [],
   "source": [
    "################################################################# Unzip Libri dataset\n",
    "!unzip /content/libri-speech-noise-dataset.zip"
   ]
  },
  {
   "cell_type": "code",
   "execution_count": null,
   "metadata": {
    "id": "m-yAcAyPVvvC"
   },
   "outputs": [],
   "source": [
    "################################################################### Unzip generated clean dataset\n",
    "!unzip /content/drive/MyDrive/Clean_arr.zip -d /content/clean_data"
   ]
  },
  {
   "cell_type": "code",
   "execution_count": null,
   "metadata": {
    "id": "Y_1dL6SOVvzb"
   },
   "outputs": [],
   "source": [
    "################################################################# Unzip generated noisy dataset\n",
    "!unzip /content/drive/MyDrive/Noisy_arr.zip -d /content/noisy_data"
   ]
  },
  {
   "cell_type": "markdown",
   "metadata": {
    "id": "GhLp6JBRFgxm"
   },
   "source": [
    "# Listening to clean and noisy samples"
   ]
  },
  {
   "cell_type": "code",
   "execution_count": 3,
   "metadata": {
    "id": "ZoCnZdQj9PdR"
   },
   "outputs": [],
   "source": [
    "################################################################# Functions to obtain signal from spectogram\n",
    "FFT_LENGTH = 512\n",
    "WINDOW_LENGTH = 512\n",
    "WINDOW_STEP = int(WINDOW_LENGTH / 2)\n",
    "magnitudeMin = float(\"inf\")\n",
    "magnitudeMax = float(\"-inf\")\n",
    "phaseMin = float(\"inf\")\n",
    "phaseMax = float(\"-inf\")\n",
    "\n",
    "phaseMax = 3.141592653589793 \n",
    "phaseMin = -3.141592653589793\n",
    "magnitudeMax = 2211683.973249525\n",
    "magnitudeMin = 0.0\n",
    "\n",
    "rate = 16000\n",
    "\n",
    "def amplifyMagnitudeByLog(d):\n",
    "    return 188.301 * math.log10(d + 1)\n",
    "\n",
    "def weakenAmplifiedMagnitude(d):\n",
    "    return math.pow(10, d/188.301)-1\n",
    "\n",
    "def generateLinearScale(magnitudePixels, phasePixels, \n",
    "                        magnitudeMin, magnitudeMax, phaseMin, phaseMax):\n",
    "    height = magnitudePixels.shape[0]\n",
    "    width = magnitudePixels.shape[1]\n",
    "    magnitudeRange = magnitudeMax - magnitudeMin\n",
    "    phaseRange = phaseMax - phaseMin\n",
    "    rgbArray = np.zeros((height, width, 3), 'uint8')\n",
    "    \n",
    "    for w in range(width):\n",
    "        for h in range(height):\n",
    "            magnitudePixels[h,w] = (magnitudePixels[h,w] - magnitudeMin) / (magnitudeRange) * 255 * 2\n",
    "            magnitudePixels[h,w] = amplifyMagnitudeByLog(magnitudePixels[h,w])\n",
    "            phasePixels[h,w] = (phasePixels[h,w] - phaseMin) / (phaseRange) * 255\n",
    "            red = 255 if magnitudePixels[h,w] > 255 else magnitudePixels[h,w]\n",
    "            green = (magnitudePixels[h,w] - 255) if magnitudePixels[h,w] > 255 else 0\n",
    "            blue = phasePixels[h,w]\n",
    "            rgbArray[h,w,0] = int(red)\n",
    "            rgbArray[h,w,1] = int(green)\n",
    "            rgbArray[h,w,2] = int(blue)\n",
    "    return rgbArray\n",
    "\n",
    "def recoverLinearScale(rgbArray, magnitudeMin, magnitudeMax, \n",
    "                       phaseMin, phaseMax):\n",
    "    width = rgbArray.shape[1]\n",
    "    height = rgbArray.shape[0]\n",
    "   # print(phaseMax,phaseMin)\n",
    "    magnitudeVals = rgbArray[:,:,0].astype(float) + rgbArray[:,:,1].astype(float)\n",
    "    phaseVals = rgbArray[:,:,2].astype(float)\n",
    "    phaseRange = phaseMax - phaseMin\n",
    "    magnitudeRange = magnitudeMax - magnitudeMin\n",
    "     \n",
    "    for w in range(width):\n",
    "        for h in range(height):\n",
    "            phaseVals[h,w] = (phaseVals[h,w] / 255 * phaseRange) + phaseMin\n",
    "            magnitudeVals[h,w] = weakenAmplifiedMagnitude(magnitudeVals[h,w])\n",
    "            magnitudeVals[h,w] = (magnitudeVals[h,w] / (255*2) * magnitudeRange) + magnitudeMin\n",
    "    return magnitudeVals, phaseVals\n",
    "\n",
    "def recoverSignalFromSpectrogram(numpyarray):\n",
    "    data = np.array( numpyarray, dtype='uint8' )\n",
    "    width = data.shape[1]\n",
    "    height = data.shape[0]\n",
    "\n",
    "    magnitudeVals, phaseVals \\\n",
    "    = recoverLinearScale(data, magnitudeMin, magnitudeMax, phaseMin, phaseMax)\n",
    "        \n",
    "    recovered = np.zeros(WINDOW_LENGTH * width // 2 + WINDOW_STEP, dtype=np.int16)\n",
    "    recovered = np.array(recovered,dtype=np.int16)\n",
    "    \n",
    "    for w in range(width):\n",
    "        toInverse = np.zeros(height, dtype=np.complex_)\n",
    "        for h in range(height):\n",
    "            magnitude = magnitudeVals[height-h-1,w]\n",
    "            phase = phaseVals[height-h-1,w]\n",
    "            toInverse[h] = magnitude * math.cos(phase) + (1j * magnitude * math.sin(phase))\n",
    "        signal = np.fft.irfft(toInverse)\n",
    "        recovered[w*WINDOW_STEP:w*WINDOW_STEP + WINDOW_LENGTH] += signal[:WINDOW_LENGTH].astype(np.int16)\n",
    "    return recovered"
   ]
  },
  {
   "cell_type": "code",
   "execution_count": 12,
   "metadata": {
    "colab": {
     "base_uri": "https://localhost:8080/"
    },
    "id": "rooJbdUJV6jN",
    "outputId": "b7517f7d-6855-4a21-8410-6106dcc5ed18"
   },
   "outputs": [
    {
     "name": "stdout",
     "output_type": "stream",
     "text": [
      "3.141592653589793 -3.141592653589793\n"
     ]
    }
   ],
   "source": [
    "############################################################## listening to noisy sound file\n",
    "filename = '/content/noisy_data/content/Noisy_arr/88572e40-45db-11e9-81ce-69b74fd7e64e.npy'\n",
    "new_num_arr = np.load(filename)\n",
    "new_num_arr.shape\n",
    "data = recoverSignalFromSpectrogram(new_num_arr)\n",
    "scipy.io.wavfile.write('1034-121119-0049.wav', rate, data)"
   ]
  },
  {
   "cell_type": "code",
   "execution_count": null,
   "metadata": {
    "colab": {
     "base_uri": "https://localhost:8080/"
    },
    "id": "pvWFoXVUFFSj",
    "outputId": "33141ada-939e-4a03-d930-1699808b897c"
   },
   "outputs": [
    {
     "name": "stdout",
     "output_type": "stream",
     "text": [
      "3.141592653589793 -3.141592653589793\n"
     ]
    }
   ],
   "source": [
    "############################################################# listening to clean sound file\n",
    "filename = '/content/clean_data/content/Clean_arr/88572e40-45db-11e9-81ce-69b74fd7e64e.npy'\n",
    "new_num_arr = np.load(filename)\n",
    "new_num_arr.shape\n",
    "data = recoverSignalFromSpectrogram(new_num_arr)\n",
    "scipy.io.wavfile.write('y1034-121119-0049.wav', rate, data)"
   ]
  },
  {
   "cell_type": "code",
   "execution_count": null,
   "metadata": {
    "colab": {
     "base_uri": "https://localhost:8080/",
     "height": 75
    },
    "id": "4bAiC0FxBn6d",
    "outputId": "f8eb3980-e936-4078-a751-de86ffbb358d"
   },
   "outputs": [
    {
     "data": {
      "text/html": [
       "\n",
       "                <audio controls=\"controls\" >\n",
       "                    <source src=\"data:audio/x-wav;base64,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\" type=\"audio/x-wav\" />\n",
       "                    Your browser does not support the audio element.\n",
       "                </audio>\n",
       "              "
      ],
      "text/plain": [
       "<IPython.lib.display.Audio object>"
      ]
     },
     "execution_count": 12,
     "metadata": {},
     "output_type": "execute_result"
    }
   ],
   "source": [
    "# Noisy Sample\n",
    "ipd.Audio('1034-121119-0049.wav')"
   ]
  },
  {
   "cell_type": "code",
   "execution_count": null,
   "metadata": {
    "colab": {
     "base_uri": "https://localhost:8080/",
     "height": 75
    },
    "id": "HaANc7njFapH",
    "outputId": "23421b12-d3ad-48ca-a609-90c60479d4da"
   },
   "outputs": [
    {
     "data": {
      "text/html": [
       "\n",
       "                <audio controls=\"controls\" >\n",
       "                    <source src=\"data:audio/x-wav;base64,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\" type=\"audio/x-wav\" />\n",
       "                    Your browser does not support the audio element.\n",
       "                </audio>\n",
       "              "
      ],
      "text/plain": [
       "<IPython.lib.display.Audio object>"
      ]
     },
     "execution_count": 13,
     "metadata": {},
     "output_type": "execute_result"
    }
   ],
   "source": [
    "# Clean Sample\n",
    "ipd.Audio('y1034-121119-0049.wav')"
   ]
  },
  {
   "cell_type": "markdown",
   "metadata": {
    "id": "UdUgHTuEXPCh"
   },
   "source": [
    "# Data Preprocessing"
   ]
  },
  {
   "cell_type": "markdown",
   "metadata": {
    "id": "OgTL_1e9XPCi"
   },
   "source": [
    "## Create training, testing and validation folders"
   ]
  },
  {
   "cell_type": "code",
   "execution_count": null,
   "metadata": {
    "id": "Yzr6QddAJqXM"
   },
   "outputs": [],
   "source": [
    "#################################### make directories to store files\n",
    "os.mkdir('/content/clean')\n",
    "os.mkdir('/content/noisy')\n",
    "os.mkdir('/content/clean/clean')\n",
    "os.mkdir('/content/noisy/noisy')"
   ]
  },
  {
   "cell_type": "code",
   "execution_count": null,
   "metadata": {
    "id": "St3jPfw7Kccr"
   },
   "outputs": [],
   "source": [
    "#################################### remove unecessary folders\n",
    "shutil.rmtree('/content/clean_split_data')\n",
    "shutil.rmtree('/content/noisy_split_data')"
   ]
  },
  {
   "cell_type": "code",
   "execution_count": null,
   "metadata": {
    "id": "BVPp04BrQeq1"
   },
   "outputs": [],
   "source": [
    "#################################### copy noises into single folder\n",
    "path = '/content/LibriNoise_Train_Test_NPY/mat_train'\n",
    "dst_dir = \"/content/noisy/noisy\"\n",
    "for noise in os.listdir(path):\n",
    "    shutil.copy(os.path.join(path, noise), dst_dir)\n",
    "\n",
    "path = '/content/LibriNoise_Train_Test_NPY/mat_test'\n",
    "dst_dir = \"/content/noisy/noisy\"\n",
    "for noise in os.listdir(path):\n",
    "    shutil.copy(os.path.join(path, noise), dst_dir)\n",
    "\n",
    "path = '/content/noisy_data/content/Noisy_arr'\n",
    "dst_dir = \"/content/noisy/noisy\"\n",
    "for noise in os.listdir(path):\n",
    "    shutil.copy(os.path.join(path, noise), dst_dir)\n",
    "\n",
    "\n",
    "################################## copy clean into single folder\n",
    "path = '/content/LibriNoise_Train_Test_NPY/mat_ytrain'\n",
    "dst_dir = \"/content/clean/clean\"\n",
    "for noise in os.listdir(path):\n",
    "    shutil.copy(os.path.join(path, noise), dst_dir)\n",
    "\n",
    "path = '/content/LibriNoise_Train_Test_NPY/mat_ytest'\n",
    "dst_dir = \"/content/clean/clean\"\n",
    "for noise in os.listdir(path):\n",
    "    shutil.copy(os.path.join(path, noise), dst_dir)\n",
    "\n",
    "path = '/content/clean_data/content/Clean_arr'\n",
    "dst_dir = \"/content/clean/clean\"\n",
    "for noise in os.listdir(path):\n",
    "    shutil.copy(os.path.join(path, noise), dst_dir)\n"
   ]
  },
  {
   "cell_type": "code",
   "execution_count": null,
   "metadata": {
    "colab": {
     "base_uri": "https://localhost:8080/"
    },
    "id": "nLkg-nhpQeuO",
    "outputId": "59b061ce-f938-41bd-f20b-326d2e93b692"
   },
   "outputs": [
    {
     "name": "stderr",
     "output_type": "stream",
     "text": [
      "Copying files: 21193 files [00:03, 6236.92 files/s]\n"
     ]
    }
   ],
   "source": [
    "splitfolders.ratio('/content/clean', output= '/content/clean_split_data', seed=1, ratio = (0.85, 0.05,0.1))"
   ]
  },
  {
   "cell_type": "code",
   "execution_count": null,
   "metadata": {
    "colab": {
     "base_uri": "https://localhost:8080/"
    },
    "id": "V7nlyApPQe9O",
    "outputId": "523ebf16-2a91-4434-d1a6-71b6eade9b17"
   },
   "outputs": [
    {
     "name": "stderr",
     "output_type": "stream",
     "text": [
      "Copying files: 21193 files [00:03, 6771.26 files/s]\n"
     ]
    }
   ],
   "source": [
    "splitfolders.ratio('/content/noisy', output= '/content/noisy_split_data', seed=1, ratio = (0.85, 0.05,0.1))"
   ]
  },
  {
   "cell_type": "code",
   "execution_count": null,
   "metadata": {
    "id": "8VgPXDctR3nh"
   },
   "outputs": [],
   "source": [
    "#################################### remove unecessary files\n",
    "!rm '/content/BWAVN.7z'\n",
    "!rm '/content/ModelArchitecture.txt'\n",
    "!rm '/content/NoiseTest.pptx'\n",
    "!rm '/content/NoiseTest_SNR.pptx'\n",
    "!rm '/content/epoc-27-results.xltx'\n",
    "!rm '/content/model.h5.png'\n",
    "!rm '/content/noisesB.7z'\n",
    "!rm '/content/results.7z'\n",
    "!rm '/content/samples.7z'\n",
    "!rm '/content/test.7z'\n",
    "!rm '/content/train.7z'\n",
    "!rm '/content/y_test.7z'\n",
    "!rm '/content/y_train.7z'\n",
    "!rm '/content/libri-speech-noise-dataset.zip'"
   ]
  },
  {
   "cell_type": "code",
   "execution_count": null,
   "metadata": {
    "id": "61r95mKbR4Qh"
   },
   "outputs": [],
   "source": [
    "#################################### remove unecessary folders\n",
    "shutil.rmtree('/content/noisy')\n",
    "shutil.rmtree('/content/clean')\n",
    "shutil.rmtree('/content/noisy_data')\n",
    "shutil.rmtree('/content/clean_data')\n",
    "shutil.rmtree('/content/LibriNoise_Train_Test_NPY')\n",
    "shutil.rmtree('/content/sample_data')"
   ]
  },
  {
   "cell_type": "code",
   "execution_count": null,
   "metadata": {
    "colab": {
     "base_uri": "https://localhost:8080/"
    },
    "id": "UsRi3g0RRrTz",
    "outputId": "3abca199-0e84-4fd6-9de9-bed15696f6dc"
   },
   "outputs": [
    {
     "name": "stderr",
     "output_type": "stream",
     "text": [
      "100%|██████████| 18014/18014 [00:00<00:00, 883656.81it/s]\n",
      "100%|██████████| 18014/18014 [00:00<00:00, 832813.72it/s]\n",
      "100%|██████████| 1059/1059 [00:00<00:00, 791053.95it/s]\n",
      "100%|██████████| 1059/1059 [00:00<00:00, 806860.66it/s]\n",
      "100%|██████████| 2120/2120 [00:00<00:00, 672103.14it/s]\n",
      "100%|██████████| 2120/2120 [00:00<00:00, 818400.78it/s]\n"
     ]
    }
   ],
   "source": [
    "######################################################### Create lists of files\n",
    "train_image = []\n",
    "path = '/content/noisy_split_data/train/noisy'\n",
    "for filename in tqdm(glob.glob(os.path.join(path, '*.npy'))):\n",
    "    train_image.append(os.path.join(filename))\n",
    "    \n",
    "ytrain_image = []\n",
    "path = '/content/clean_split_data/train/clean'\n",
    "for filename in tqdm(glob.glob(os.path.join(path, '*.npy'))):\n",
    "    ytrain_image.append(os.path.join(filename))\n",
    "\n",
    "valid_image = []\n",
    "path = '/content/noisy_split_data/val/noisy'\n",
    "for filename in tqdm(glob.glob(os.path.join(path, '*.npy'))):\n",
    "    valid_image.append(os.path.join(filename))\n",
    "    \n",
    "yvalid_image = []\n",
    "path = '/content/clean_split_data/val/clean'\n",
    "for filename in tqdm(glob.glob(os.path.join(path, '*.npy'))):\n",
    "    yvalid_image.append(os.path.join(filename))\n",
    "    \n",
    "test_image = []\n",
    "path = '/content/noisy_split_data/test/noisy'\n",
    "for filename in tqdm(glob.glob(os.path.join(path, '*.npy'))):\n",
    "    test_image.append(os.path.join(filename))\n",
    "    \n",
    "ytest_image = []\n",
    "path = '/content/clean_split_data/test/clean'\n",
    "for filename in tqdm(glob.glob(os.path.join(path, '*.npy'))):\n",
    "    ytest_image.append(os.path.join(filename))"
   ]
  },
  {
   "cell_type": "code",
   "execution_count": null,
   "metadata": {
    "id": "0p2bIzOFOD05"
   },
   "outputs": [],
   "source": [
    "######################################## Join arrays\n",
    "x_train = []\n",
    "y_train = []\n",
    "x_val = []\n",
    "y_val = []\n",
    "x_test = []\n",
    "y_test =[]\n",
    "\n",
    "for file in train_image:\n",
    "  f = np.load(file)/255\n",
    "  x_train.append(f)\n",
    "\n",
    "for file in ytrain_image:\n",
    "  f = np.load(file)/255\n",
    "  y_train.append(f)\n",
    "\n",
    "for file in valid_image:\n",
    "  f = np.load(file)/255\n",
    "  x_val.append(f)\n",
    "\n",
    "for file in yvalid_image:\n",
    "  f = np.load(file)/255\n",
    "  y_val.append(f)\n",
    "\n",
    "for file in test_image:\n",
    "  f = np.load(file)/255\n",
    "  x_test.append(f)\n",
    "\n",
    "for file in ytest_image:\n",
    "  f = np.load(file)/255\n",
    "  y_test.append(f)"
   ]
  },
  {
   "cell_type": "code",
   "execution_count": null,
   "metadata": {
    "colab": {
     "base_uri": "https://localhost:8080/"
    },
    "id": "oqd9KmklMtUd",
    "outputId": "1cba28ec-ab11-4fe7-9e65-605fc184cf6b"
   },
   "outputs": [
    {
     "name": "stderr",
     "output_type": "stream",
     "text": [
      "/usr/local/lib/python3.7/dist-packages/ipykernel_launcher.py:4: DeprecationWarning: elementwise comparison failed; this will raise an error in the future.\n",
      "  after removing the cwd from sys.path.\n",
      "/usr/local/lib/python3.7/dist-packages/ipykernel_launcher.py:8: DeprecationWarning: elementwise comparison failed; this will raise an error in the future.\n",
      "  \n",
      "/usr/local/lib/python3.7/dist-packages/ipykernel_launcher.py:20: DeprecationWarning: elementwise comparison failed; this will raise an error in the future.\n",
      "/usr/local/lib/python3.7/dist-packages/ipykernel_launcher.py:24: DeprecationWarning: elementwise comparison failed; this will raise an error in the future.\n"
     ]
    }
   ],
   "source": [
    "############################################ Remove arrays of incorrect shape\n",
    "for i in x_train:\n",
    "  if i.shape != (257,62,3):\n",
    "    x_train.remove(i)\n",
    "\n",
    "for i in y_train:\n",
    "  if i.shape != (257,62,3):\n",
    "    y_train.remove(i)\n",
    "\n",
    "for i in x_val:\n",
    "  if i.shape != (257,62,3):\n",
    "    x_val.remove(i)\n",
    "\n",
    "for i in y_val:\n",
    "  if i.shape != (257,62,3):\n",
    "    y_val.remove(i)\n",
    "\n",
    "for i in x_test:\n",
    "  if i.shape != (257,62,3):\n",
    "    x_test.remove(i)\n",
    "\n",
    "for i in y_test:\n",
    "  if i.shape != (257,62,3):\n",
    "    y_test.remove(i)"
   ]
  },
  {
   "cell_type": "code",
   "execution_count": null,
   "metadata": {},
   "outputs": [],
   "source": [
    "####################################################### Reshape list of 3d arrays into 4d arrays\n",
    "x_train = np.reshape(x_train, (len(x_train), 257, 62, 3))\n",
    "y_train = np.reshape(y_train, (len(y_train), 257, 62, 3))\n",
    "x_val = np.reshape(x_val, (len(x_val), 257, 62, 3))\n",
    "y_val = np.reshape(y_val, (len(y_val), 257, 62, 3))\n",
    "x_test = np.reshape(x_test, (len(x_test), 257, 62, 3))\n",
    "y_test = np.reshape(y_test, (len(y_test), 257, 62, 3))"
   ]
  },
  {
   "cell_type": "markdown",
   "metadata": {
    "id": "kSWeRT_AbORu"
   },
   "source": [
    "#### To reduce ram, save the arrays and clear all variables"
   ]
  },
  {
   "cell_type": "code",
   "execution_count": null,
   "metadata": {
    "id": "MNoE7DvZXnMc"
   },
   "outputs": [],
   "source": [
    "np.save('/content/drive/MyDrive/x_train_file_full', x_train)\n",
    "np.save('/content/drive/MyDrive/y_train_file_full', y_train)\n",
    "np.save('/content/drive/MyDrive/x_val_file_full', x_val)\n",
    "np.save('/content/drive/MyDrive/y_val_file_full', y_val)\n",
    "np.save('/content/drive/MyDrive/x_test_file_full', x_test)\n",
    "np.save('/content/drive/MyDrive/y_test_file_full', y_test)\n",
    "\n",
    "globals().clear()"
   ]
  },
  {
   "cell_type": "markdown",
   "metadata": {
    "id": "r7MgjP-ybUFq"
   },
   "source": [
    "#### Load the variables back in"
   ]
  },
  {
   "cell_type": "code",
   "execution_count": 17,
   "metadata": {},
   "outputs": [],
   "source": [
    "x_train = np.load('/content/drive/MyDrive/x_train_file_full.npy')\n",
    "y_train = np.load('/content/drive/MyDrive/y_train_file_full.npy')\n",
    "x_val = np.load('/content/drive/MyDrive/x_val_file_full.npy')\n",
    "y_val = np.load('/content/drive/MyDrive/y_val_file_full.npy')\n",
    "x_test = np.load('/content/drive/MyDrive/x_test_file_full.npy')\n",
    "y_test = np.load('/content/drive/MyDrive/y_test_file_full.npy')"
   ]
  },
  {
   "cell_type": "code",
   "execution_count": null,
   "metadata": {
    "colab": {
     "base_uri": "https://localhost:8080/"
    },
    "id": "6ewT4Qit23rZ",
    "outputId": "995b0121-382f-4a76-a5be-cd18ca48ed42"
   },
   "outputs": [
    {
     "name": "stdout",
     "output_type": "stream",
     "text": [
      "Mounted at /content/drive\n"
     ]
    }
   ],
   "source": [
    "from google.colab import drive\n",
    "drive.mount('/content/drive')"
   ]
  },
  {
   "cell_type": "code",
   "execution_count": null,
   "metadata": {
    "colab": {
     "base_uri": "https://localhost:8080/"
    },
    "id": "qtpU_oiAXksY",
    "outputId": "02c551d0-e6b2-4b9d-f84c-fac2d291b2c9"
   },
   "outputs": [
    {
     "name": "stdout",
     "output_type": "stream",
     "text": [
      "(17994, 257, 62, 3)\n",
      "(17994, 257, 62, 3)\n",
      "(1059, 257, 62, 3)\n",
      "(1059, 257, 62, 3)\n",
      "(2119, 257, 62, 3)\n",
      "(2119, 257, 62, 3)\n"
     ]
    }
   ],
   "source": [
    "########################### check shape\n",
    "print(x_train.shape)\n",
    "print(y_train.shape)\n",
    "print(x_val.shape)\n",
    "print(y_val.shape)\n",
    "print(x_test.shape)\n",
    "print(y_test.shape)"
   ]
  },
  {
   "cell_type": "code",
   "execution_count": null,
   "metadata": {
    "colab": {
     "base_uri": "https://localhost:8080/"
    },
    "id": "IvtU89EKOaOc",
    "outputId": "0b4c4bca-8a93-448e-8e1a-81ced09d8ba6"
   },
   "outputs": [
    {
     "name": "stdout",
     "output_type": "stream",
     "text": [
      "1.0\n",
      "1.0\n",
      "1.0\n",
      "1.0\n",
      "1.0\n",
      "1.0\n"
     ]
    }
   ],
   "source": [
    "########################### check max of arrays\n",
    "print(np.amax(x_train))\n",
    "print(np.amax(y_train))\n",
    "print(np.amax(x_val))\n",
    "print(np.amax(y_val))\n",
    "print(np.amax(x_test))\n",
    "print(np.amax(y_test))"
   ]
  },
  {
   "cell_type": "markdown",
   "metadata": {
    "id": "_2rcjfZj7Ar0"
   },
   "source": [
    "# Convolutional Recurrent Neural Network"
   ]
  },
  {
   "cell_type": "markdown",
   "metadata": {
    "id": "1ezx_Q2SwwJc"
   },
   "source": [
    "### Construct Model"
   ]
  },
  {
   "cell_type": "code",
   "execution_count": 18,
   "metadata": {
    "colab": {
     "base_uri": "https://localhost:8080/"
    },
    "id": "shh-o8aqFWgm",
    "outputId": "0e73094c-58b5-4282-dfd9-8be622783d94"
   },
   "outputs": [
    {
     "name": "stdout",
     "output_type": "stream",
     "text": [
      "Model: \"sequential\"\n",
      "_________________________________________________________________\n",
      " Layer (type)                Output Shape              Param #   \n",
      "=================================================================\n",
      " zero_padding2d (ZeroPadding  (None, 260, 64, 3)       0         \n",
      " 2D)                                                             \n",
      "                                                                 \n",
      " conv2d (Conv2D)             (None, 130, 32, 128)      3584      \n",
      "                                                                 \n",
      " batch_normalization (BatchN  (None, 130, 32, 128)     512       \n",
      " ormalization)                                                   \n",
      "                                                                 \n",
      " conv2d_1 (Conv2D)           (None, 65, 16, 256)       295168    \n",
      "                                                                 \n",
      " batch_normalization_1 (Batc  (None, 65, 16, 256)      1024      \n",
      " hNormalization)                                                 \n",
      "                                                                 \n",
      " flatten (Flatten)           (None, 266240)            0         \n",
      "                                                                 \n",
      " reshape (Reshape)           (None, 256, 1040)         0         \n",
      "                                                                 \n",
      " lstm (LSTM)                 (None, 256, 256)          1328128   \n",
      "                                                                 \n",
      " lstm_1 (LSTM)               (None, 256)               525312    \n",
      "                                                                 \n",
      " dropout (Dropout)           (None, 256)               0         \n",
      "                                                                 \n",
      " dense (Dense)               (None, 133120)            34211840  \n",
      "                                                                 \n",
      " reshape_1 (Reshape)         (None, 65, 16, 128)       0         \n",
      "                                                                 \n",
      " conv2d_transpose (Conv2DTra  (None, 130, 32, 256)     295168    \n",
      " nspose)                                                         \n",
      "                                                                 \n",
      " batch_normalization_2 (Batc  (None, 130, 32, 256)     1024      \n",
      " hNormalization)                                                 \n",
      "                                                                 \n",
      " conv2d_transpose_1 (Conv2DT  (None, 260, 64, 128)     295040    \n",
      " ranspose)                                                       \n",
      "                                                                 \n",
      " batch_normalization_3 (Batc  (None, 260, 64, 128)     512       \n",
      " hNormalization)                                                 \n",
      "                                                                 \n",
      " conv2d_transpose_2 (Conv2DT  (None, 260, 64, 3)       387       \n",
      " ranspose)                                                       \n",
      "                                                                 \n",
      " batch_normalization_4 (Batc  (None, 260, 64, 3)       12        \n",
      " hNormalization)                                                 \n",
      "                                                                 \n",
      " cropping2d (Cropping2D)     (None, 257, 62, 3)        0         \n",
      "                                                                 \n",
      "=================================================================\n",
      "Total params: 36,957,711\n",
      "Trainable params: 36,956,169\n",
      "Non-trainable params: 1,542\n",
      "_________________________________________________________________\n"
     ]
    }
   ],
   "source": [
    "###################################################### BUILD MODEL\n",
    "model = Sequential()\n",
    "\n",
    "# encoder\n",
    "model.add(Input(shape=(257,62,3)))\n",
    "model.add(ZeroPadding2D(((3,0),(0,2))))\n",
    "model.add(Conv2D(128, kernel_size=(3, 3), strides=(2, 2), activation='relu',padding='same'))\n",
    "model.add(BatchNormalization(epsilon=1e-05, momentum=0.1))\n",
    "model.add(Conv2D(256,   kernel_size=(3, 3),  strides=(2, 2), activation='relu',padding='same'))\n",
    "model.add(BatchNormalization(epsilon=1e-05, momentum=0.1))\n",
    "\n",
    "model.add(Flatten())\n",
    "model.add(Reshape((256, -1)))\n",
    "model.add(LSTM(256,return_sequences=True))\n",
    "model.add(LSTM(256))\n",
    "model.add(Dropout(0.25))\n",
    "model.add(Dense(128*16*65))           \n",
    "model.add(Reshape((65,16,128)))  \n",
    "\n",
    "# encoder\n",
    "model.add(Conv2DTranspose(256,  kernel_size=(3, 3),  strides=(2, 2), activation='relu',padding='same'))\n",
    "model.add(BatchNormalization(epsilon=1e-05, momentum=0.1))\n",
    "model.add(Conv2DTranspose(128,  kernel_size=(3, 3),  strides=(2, 2), activation='relu',padding='same'))\n",
    "model.add(BatchNormalization(epsilon=1e-05, momentum=0.1))\n",
    "model.add(Conv2DTranspose(3,  kernel_size=1,  strides=(1,1), activation='sigmoid',padding='same'))\n",
    "model.add(BatchNormalization(epsilon=1e-05, momentum=0.1))\n",
    "model.add(Cropping2D(((3,0),(0,2))))\n",
    "model.summary()\n",
    "\n",
    "opt = Adam(learning_rate=0.001)\n",
    "model.compile(optimizer=opt, loss='mse',metrics=['accuracy'])"
   ]
  },
  {
   "cell_type": "markdown",
   "metadata": {
    "id": "f7lnpg0Lwzxb"
   },
   "source": [
    "### Fit Model"
   ]
  },
  {
   "cell_type": "code",
   "execution_count": 1,
   "metadata": {
    "colab": {
     "base_uri": "https://localhost:8080/"
    },
    "id": "2VbdZObeZzNe",
    "outputId": "8ca57a13-cc3f-46f2-bc87-0488fdb1fadd"
   },
   "outputs": [
    {
     "name": "stdout",
     "output_type": "stream",
     "text": [
      "\n",
      "Epoch 1/25\n",
      "282/282 [==============================] - 1097s 4s/step - loss: 0.0817 - accuracy: 0.8369 - val_loss: 0.0391 - val_accuracy: 0.8946\n",
      "Epoch 2/25\n",
      "282/282 [==============================] - 1147s 4s/step - loss: 0.0373 - accuracy: 0.8951 - val_loss: 0.0363 - val_accuracy: 0.8973\n",
      "Epoch 3/25\n",
      "282/282 [==============================] - 1150s 4s/step - loss: 0.0355 - accuracy: 0.8994 - val_loss: 0.0353 - val_accuracy: 0.9015\n",
      "Epoch 4/25\n",
      "282/282 [==============================] - 1148s 4s/step - loss: 0.0348 - accuracy: 0.9021 - val_loss: 0.0351 - val_accuracy: 0.9028\n",
      "Epoch 5/25\n",
      "282/282 [==============================] - 1147s 4s/step - loss: 0.0342 - accuracy: 0.9035 - val_loss: 0.0344 - val_accuracy: 0.9035\n",
      "Epoch 6/25\n",
      "282/282 [==============================] - 1112s 4s/step - loss: 0.0339 - accuracy: 0.9046 - val_loss: 0.0343 - val_accuracy: 0.9039\n",
      "Epoch 7/25\n",
      "282/282 [==============================] - 1090s 4s/step - loss: 0.0334 - accuracy: 0.9055 - val_loss: 0.0347 - val_accuracy: 0.9043\n",
      "Epoch 8/25\n",
      "282/282 [==============================] - 1081s 4s/step - loss: 0.0330 - accuracy: 0.9062 - val_loss: 0.0343 - val_accuracy: 0.9044\n",
      "Epoch 9/25\n",
      "282/282 [==============================] - 1085s 4s/step - loss: 0.0327 - accuracy: 0.9068 - val_loss: 0.0340 - val_accuracy: 0.9049\n",
      "Epoch 10/25\n",
      "282/282 [==============================] - 1112s 4s/step - loss: 0.0325 - accuracy: 0.9074 - val_loss: 0.0339 - val_accuracy: 0.9049\n",
      "Epoch 11/25\n",
      "282/282 [==============================] - 1065s 4s/step - loss: 0.0323 - accuracy: 0.9079 - val_loss: 0.0336 - val_accuracy: 0.9053\n",
      "Epoch 12/25\n",
      "282/282 [==============================] - 1065s 4s/step - loss: 0.0321 - accuracy: 0.9084 - val_loss: 0.0337 - val_accuracy: 0.9053\n",
      "Epoch 13/25\n",
      "282/282 [==============================] - 1067s 4s/step - loss: 0.0319 - accuracy: 0.9088 - val_loss: 0.0335 - val_accuracy: 0.9056\n",
      "Epoch 14/25\n",
      "282/282 [==============================] - 1065s 4s/step - loss: 0.0318 - accuracy: 0.9091 - val_loss: 0.0335 - val_accuracy: 0.9056\n",
      "Epoch 15/25\n",
      "282/282 [==============================] - 1059s 4s/step - loss: 0.0317 - accuracy: 0.9094 - val_loss: 0.0337 - val_accuracy: 0.9056\n",
      "Epoch 16/25\n",
      "282/282 [==============================] - 1059s 4s/step - loss: 0.0316 - accuracy: 0.9098 - val_loss: 0.0338 - val_accuracy: 0.9059\n",
      "Epoch 17/25\n",
      "282/282 [==============================] - 1067s 4s/step - loss: 0.0315 - accuracy: 0.9100 - val_loss: 0.0341 - val_accuracy: 0.9055\n",
      "Epoch 18/25\n",
      "282/282 [==============================] - 1071s 4s/step - loss: 0.0314 - accuracy: 0.9104 - val_loss: 0.0335 - val_accuracy: 0.9059\n",
      "Epoch 19/25\n",
      "282/282 [==============================] - 1078s 4s/step - loss: 0.0314 - accuracy: 0.9103 - val_loss: 0.0336 - val_accuracy: 0.9060\n",
      "Epoch 20/25\n",
      "282/282 [==============================] - 1087s 4s/step - loss: 0.0313 - accuracy: 0.9105 - val_loss: 0.0339 - val_accuracy: 0.9060\n",
      "Epoch 21/25\n",
      "282/282 [==============================] - 1079s 4s/step - loss: 0.0312 - accuracy: 0.9109 - val_loss: 0.0335 - val_accuracy: 0.9062\n",
      "Epoch 22/25\n",
      "282/282 [==============================] - 1092s 4s/step - loss: 0.0311 - accuracy: 0.9111 - val_loss: 0.0335 - val_accuracy: 0.9064\n",
      "Epoch 23/25\n",
      "282/282 [==============================] - 1115s 4s/step - loss: 0.0310 - accuracy: 0.9113 - val_loss: 0.0337 - val_accuracy: 0.9064\n",
      "Epoch 24/25\n",
      "282/282 [==============================] - 1081s 4s/step - loss: 0.0310 - accuracy: 0.9114 - val_loss: 0.0336 - val_accuracy: 0.9064\n",
      "Epoch 25/25\n",
      "282/282 [==============================] - 1081s 4s/step - loss: 0.0310 - accuracy: 0.9116 - val_loss: 0.0335 - val_accuracy: 0.9063\n"
     ]
    }
   ],
   "source": [
    "history = model.fit(x_train, y_train,\n",
    "                epochs=25,\n",
    "                batch_size=64,validation_data=(x_val, y_val))"
   ]
  },
  {
   "cell_type": "code",
   "execution_count": 5,
   "metadata": {},
   "outputs": [
    {
     "name": "stdout",
     "output_type": "stream",
     "text": [
      "INFO:tensorflow:Assets written to: /content/drive/MyDrive/model_crnn/assets\n"
     ]
    }
   ],
   "source": [
    "####################################################### save best model\n",
    "model.save('/content/drive/MyDrive/model_crnn')"
   ]
  },
  {
   "cell_type": "markdown",
   "metadata": {
    "id": "SLhjlz55w8Q8"
   },
   "source": [
    "### Evaluate model"
   ]
  },
  {
   "cell_type": "code",
   "execution_count": 11,
   "metadata": {},
   "outputs": [],
   "source": [
    "model = tf.keras.models.load_model('/content/drive/MyDrive/model_crnn')"
   ]
  },
  {
   "cell_type": "code",
   "execution_count": 4,
   "metadata": {
    "id": "crXMEtsh91_k"
   },
   "outputs": [],
   "source": [
    "import matplotlib.pyplot as plt"
   ]
  },
  {
   "cell_type": "code",
   "execution_count": 27,
   "metadata": {
    "colab": {
     "base_uri": "https://localhost:8080/",
     "height": 295
    },
    "id": "RWJQNVrnZc1S",
    "outputId": "94371d6a-a4ea-448c-d05a-1d8fd55ddd2f"
   },
   "outputs": [
    {
     "data": {
      "image/png": "[encoded data removed]",
      "text/plain": [
       "<PIL.PngImagePlugin.PngImageFile image mode=RGBA size=396x278 at 0x7FAF52E07610>"
      ]
     },
     "metadata": {},
     "output_type": "display_data"
    }
   ],
   "source": [
    "################################################# plot loss and accuracy\n",
    "plt.plot(history.history['loss'])\n",
    "plt.plot(history.history['val_loss'])\n",
    "plt.title('Model loss')\n",
    "plt.ylabel('loss')\n",
    "plt.xlabel('epoch')\n",
    "plt.legend(['train', 'validation'], loc='upper left')\n",
    "plt.show()"
   ]
  },
  {
   "cell_type": "code",
   "execution_count": 12,
   "metadata": {},
   "outputs": [
    {
     "name": "stdout",
     "output_type": "stream",
     "text": [
      "16/16 [==============================] - 2s 94ms/step - loss: 0.0352\n",
      "0.03524377110004425\n"
     ]
    }
   ],
   "source": [
    "################################## evaluate on test data\n",
    "model.evaluate(x_test,y_test)"
   ]
  },
  {
   "cell_type": "markdown",
   "metadata": {
    "id": "zaSeD8dMB-d3"
   },
   "source": [
    "### Metrics of predicted enhanced signals"
   ]
  },
  {
   "cell_type": "code",
   "execution_count": 14,
   "metadata": {},
   "outputs": [],
   "source": [
    "############################################## Make prediction of test data\n",
    "pred = model.predict(x_test)"
   ]
  },
  {
   "cell_type": "code",
   "execution_count": 15,
   "metadata": {},
   "outputs": [],
   "source": [
    "############################################### function to obtain metric scores\n",
    "def get_metrics(y_true,y_pred):\n",
    "  sdr=[]\n",
    "  isr=[]\n",
    "  sar=[]\n",
    "  nb_pesq=[]\n",
    "  pesq=[]\n",
    "  sisdr=[]\n",
    "  stoi=[]\n",
    "  mosnet=[]\n",
    "  srmr=[]\n",
    "  rate=16000\n",
    "\n",
    "  my_metrics_relative = speechmetrics.load('relative')\n",
    "  my_metrics_absolute = speechmetrics.load('absolute')\n",
    "\n",
    "  for i in range(len(y_true)):\n",
    "\n",
    "\n",
    "   # print(i)\n",
    "    try:\n",
    "      clean = recoverSignalFromSpectrogram(y_true[i])\n",
    "      enhanced = recoverSignalFromSpectrogram(y_pred[i])\n",
    "      scipy.io.wavfile.write('clean.wav', rate, clean)\n",
    "      scipy.io.wavfile.write('enhanced.wav', rate, enhanced)\n",
    "      rate, ref = wavfile.read(\"/content/clean.wav\")\n",
    "      rate, deg = wavfile.read(\"/content/enhanced.wav\")\n",
    "\n",
    "      scores_relative = my_metrics_relative('/content/enhanced.wav', '/content/clean.wav')\n",
    "      scores_absolute = my_metrics_absolute('/content/enhanced.wav', '/content/clean.wav')\n",
    "\n",
    "      sdr.append(scores_relative.get('sdr').item())\n",
    "      isr.append(scores_relative.get('isr').item())\n",
    "      sar.append(scores_relative.get('sar').item())\n",
    "      nb_pesq.append(scores_relative.get('nb_pesq').item())\n",
    "      pesq.append(scores_relative.get('pesq').item())\n",
    "      sisdr.append(scores_relative.get('sisdr').item())\n",
    "      stoi.append(scores_relative.get('stoi').item())\n",
    "      mosnet.append(scores_absolute.get('mosnet').item())\n",
    "      srmr.append(scores_absolute.get('srmr').item())\n",
    "  \n",
    "    except:\n",
    "      continue\n",
    "\n",
    "  sdr_score = sum(sdr)/len(sdr)\n",
    "  isr_score = sum(isr)/len(isr)\n",
    "  sar_score = sum(sar)/len(sar)\n",
    "  nb_pesq_score = sum(nb_pesq)/len(nb_pesq)\n",
    "  pesq_score = sum(pesq)/len(pesq)\n",
    "  sisdr_score = sum(sisdr)/len(sisdr)\n",
    "  stoi_score = sum(stoi)/len(stoi)\n",
    "  mosnet_score = sum(mosnet)/len(mosnet)\n",
    "  srmr_score = sum(srmr)/len(srmr)\n",
    "\n",
    "  print('sdr_score:',sdr_score)\n",
    "  print('isr_score:',isr_score)\n",
    "  print('sar_score:',sar_score)\n",
    "  print('nb_pesq_score:',nb_pesq_score)\n",
    "  print('pesq_score:',pesq_score)\n",
    "  print('sisdr_score:',sisdr_score)\n",
    "  print('stoi_score:',stoi_score)\n",
    "  print('mosnet_score:',mosnet_score)\n",
    "  print('srmr_score:',srmr_score)\n",
    "\n",
    "  return "
   ]
  },
  {
   "cell_type": "code",
   "execution_count": 16,
   "metadata": {},
   "outputs": [
    {
     "name": "stdout",
     "output_type": "stream",
     "text": [
      "Loaded  speechmetrics.relative.bsseval\n",
      "Loaded  speechmetrics.relative.nb_pesq\n",
      "Loaded  speechmetrics.relative.pesq\n",
      "Loaded  speechmetrics.relative.sisdr\n",
      "Loaded  speechmetrics.relative.stoi\n",
      "Physical devices cannot be modified after being initialized\n",
      "WARNING:tensorflow:Layer lstm_1 will not use cuDNN kernels since it doesn't meet the criteria. It will use a generic GPU kernel as fallback when running on GPU.\n",
      "WARNING:tensorflow:Layer lstm_1 will not use cuDNN kernels since it doesn't meet the criteria. It will use a generic GPU kernel as fallback when running on GPU.\n",
      "WARNING:tensorflow:Layer lstm_1 will not use cuDNN kernels since it doesn't meet the criteria. It will use a generic GPU kernel as fallback when running on GPU.\n",
      "Loaded  speechmetrics.absolute.mosnet\n",
      "Loaded  speechmetrics.absolute.srmr\n",
      "/usr/local/lib/python3.7/dist-packages/pystoi/stoi.py:69: RuntimeWarning: Not enough STFT frames to compute intermediate intelligibility measure after removing silent frames. Returning 1e-5. Please check you wav files\n",
      "  RuntimeWarning)\n",
      "/usr/local/lib/python3.7/dist-packages/pypesq/init.py:53: UserWarning: Processing Error! return NaN\n",
      "  warnings.warn('Processing Error! return NaN')\n",
      "sdr_score: 0.9047362872014945\n",
      "isr_score: 5.26288963254372336\n",
      "sar_score: 3.473493105081486\n",
      "nb_pesq_score: nan\n",
      "pesq_score: 1.3985482100078038\n",
      "sisdr_score: 1.14220905677887\n",
      "stoi_score: 0.637087637361015\n",
      "mosnet_score: 2.5102645392644973\n",
      "srmr_score: 6.080423964459888\n"
     ]
    }
   ],
   "source": [
    "####################################### obtain prediction metrics\n",
    "get_metrics(y_test*255,pred*255)"
   ]
  }
 ],
 "metadata": {
  "accelerator": "TPU",
  "colab": {
   "collapsed_sections": [],
   "machine_shape": "hm",
   "name": "ST456_CRN_(8).ipynb",
   "provenance": []
  },
  "kernelspec": {
   "display_name": "Python 3 (ipykernel)",
   "language": "python",
   "name": "python3"
  },
  "language_info": {
   "codemirror_mode": {
    "name": "ipython",
    "version": 3
   },
   "file_extension": ".py",
   "mimetype": "text/x-python",
   "name": "python",
   "nbconvert_exporter": "python",
   "pygments_lexer": "ipython3",
   "version": "3.9.7"
  }
 },
 "nbformat": 4,
 "nbformat_minor": 1
}
